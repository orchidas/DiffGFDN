{
 "cells": [
  {
   "cell_type": "code",
   "execution_count": null,
   "id": "0",
   "metadata": {},
   "outputs": [],
   "source": [
    "import numpy as np\n",
    "\n",
    "from pathlib import Path\n",
    "\n",
    "from scipy.io import loadmat\n",
    "\n",
    "import matplotlib.pyplot as plt\n",
    "\n",
    "import os\n",
    "\n",
    "scale = 2\n",
    "plt.rcParams.update({\n",
    "    'font.size': scale * 8,  # base font size\n",
    "    'axes.labelsize': scale * 8,  # x/y label\n",
    "    'xtick.labelsize': scale * 7,\n",
    "    'ytick.labelsize': scale * 7,\n",
    "    'legend.fontsize': scale * 5,\n",
    "    'axes.titlesize': scale * 10,  # usually unused in journal figures\n",
    "})\n",
    "os.chdir('..')  # This changes the working directory to DiffGFDN"
   ]
  },
  {
   "cell_type": "code",
   "execution_count": null,
   "id": "1",
   "metadata": {},
   "outputs": [],
   "source": [
    "freqs = [63, 125, 250, 500, 1000, 2000, 4000, 8000]\n",
    "total_receivers = 838\n",
    "ratio = np.linspace(0.3, 0.9, 7)\n",
    "plt.figure()\n",
    "batch_size = 32\n",
    "edc_error = {}\n",
    "edr_error = {}\n",
    "\n",
    "for i in range(len(ratio)):\n",
    "    edc_error[ratio[i]] = np.zeros(len(freqs))\n",
    "    edr_error[ratio[i]] = np.zeros(len(freqs))\n",
    "    num_receivers = np.round((1-ratio[i]) * total_receivers)\n",
    "    num_batches_exact = num_receivers / batch_size\n",
    "    print(num_batches_exact)\n",
    "    for k in range(len(freqs)):\n",
    "        file_path = Path(f'output/train_split_test/{ratio[i]:.1f}/grid_rir_treble_band_centre={freqs[k]}Hz_colorless_loss_diff_delays/individual_losses_test_loss_vs_position.mat').resolve()\n",
    "        mat_dict = loadmat(file_path)\n",
    "        num_batches_int = len(mat_dict['edc_loss'][0])\n",
    "        assert num_batches_exact <= num_batches_int\n",
    "        edc_error[ratio[i]][k] = np.sum(mat_dict['edc_loss'] / 10) / num_batches_exact\n",
    "        edr_error[ratio[i]][k] =  np.sum(mat_dict['edr_loss']) / num_batches_exact\n",
    "    print(f'Ratio: {ratio[i]:.1f}, EDC error : {np.round(edc_error[ratio[i]], 4)}')\n",
    "\n",
    "    plt.semilogx(freqs, edc_error[ratio[i]], '-x', label=f'Split ratio = {ratio[i]:.1f}')\n",
    "\n",
    "plt.ylabel('EDC error (dB)')\n",
    "plt.xlabel('Frequencies (Hz)')\n",
    "plt.xticks(freqs, ['63' ,'125', '250', '500', '1k', '2k', '4k', '8k'])\n",
    "plt.legend()"
   ]
  }
 ],
 "metadata": {
  "kernelspec": {
   "display_name": "Python 3 (ipykernel)",
   "language": "python",
   "name": "python3"
  },
  "language_info": {
   "codemirror_mode": {
    "name": "ipython",
    "version": 3
   },
   "file_extension": ".py",
   "mimetype": "text/x-python",
   "name": "python",
   "nbconvert_exporter": "python",
   "pygments_lexer": "ipython3",
   "version": "3.12.4"
  }
 },
 "nbformat": 4,
 "nbformat_minor": 5
}
