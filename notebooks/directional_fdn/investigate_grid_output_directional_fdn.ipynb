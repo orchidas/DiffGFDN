{
 "cells": [
  {
   "cell_type": "code",
   "execution_count": null,
   "id": "0",
   "metadata": {},
   "outputs": [],
   "source": [
    "import numpy as np\n",
    "import torch\n",
    "import re\n",
    "import os\n",
    "import matplotlib.pyplot as plt\n",
    "\n",
    "from pathlib import Path\n",
    "from numpy.typing import ArrayLike, NDArray\n",
    "from typing import Optional, List\n",
    "from IPython import display\n",
    "from loguru import logger\n",
    "from copy import deepcopy\n",
    "scale = 2\n",
    "plt.rcParams.update({\n",
    "    'font.size': scale * 8,  # base font size\n",
    "    'axes.labelsize': scale * 9,  # x/y label\n",
    "    'xtick.labelsize': scale * 8,\n",
    "    'ytick.labelsize': scale * 8,\n",
    "    'legend.fontsize': scale * 8,\n",
    "    'axes.titlesize': scale * 10,  # usually unused in journal figures\n",
    "})\n",
    "\n",
    "os.chdir('../..')  # This changes the working directory to DiffGFDN\n",
    "\n",
    "from diff_gfdn.config.config import DiffGFDNConfig\n",
    "from diff_gfdn.config.config_loader import load_and_validate_config\n",
    "from diff_gfdn.model import DiffDirectionalFDNVarReceiverPos\n",
    "from diff_gfdn.inference import InferDiffDirectionalFDN\n",
    "from diff_gfdn.colorless_fdn.utils import get_colorless_fdn_params\n",
    "\n",
    "from spatial_sampling.dataloader import parse_room_data"
   ]
  },
  {
   "cell_type": "code",
   "execution_count": null,
   "id": "1",
   "metadata": {},
   "outputs": [],
   "source": [
    "config_path = 'data/config/directional_fdn/'\n",
    "fig_path = 'figures/directional_fdn/'\n",
    "freq_to_plot = 4000\n",
    "config_name = f'treble_data_grid_training_{freq_to_plot}Hz_directional_fdn_grid_res=0.6m.yml'\n",
    "config_file = config_path + config_name\n",
    "config_dict = load_and_validate_config(config_file,\n",
    "                                       DiffGFDNConfig)\n",
    "trainer_config = config_dict.trainer_config"
   ]
  },
  {
   "cell_type": "markdown",
   "id": "2",
   "metadata": {},
   "source": [
    "#### Parse config file and instantiate model"
   ]
  },
  {
   "cell_type": "code",
   "execution_count": null,
   "id": "3",
   "metadata": {},
   "outputs": [],
   "source": [
    "if \"3room_FDTD\" in config_dict.room_dataset_path:\n",
    "    room_data = parse_room_data(Path(config_dict.room_dataset_path).resolve())\n",
    "else:\n",
    "    logger.error(\"Other room data not supported currently\")\n",
    "\n",
    "config_dict = config_dict.model_copy(\n",
    "        update={\"num_groups\": room_data.num_rooms})\n",
    "assert config_dict.num_delay_lines % config_dict.num_groups == 0, \"Delay lines must be \\\n",
    "    divisible by number of groups in network\"\n",
    "\n",
    "# update ambisonics order\n",
    "config_dict = config_dict.model_copy(\n",
    "    update={\"ambi_order\": room_data.ambi_order})\n",
    "\n",
    "if config_dict.sample_rate != room_data.sample_rate:\n",
    "    logger.warning(\"Config sample rate does not match data, alterning it\")\n",
    "    config_dict.sample_rate = room_data.sample_rate\n",
    "\n",
    "# get the training config\n",
    "trainer_config = config_dict.trainer_config\n",
    "# update num_freq_bins in pydantic class\n",
    "trainer_config = trainer_config.model_copy(\n",
    "    update={\"num_freq_bins\": room_data.num_freq_bins})\n",
    "\n",
    "if config_dict.colorless_fdn_config.use_colorless_prototype and trainer_config.use_colorless_loss:\n",
    "    raise ValueError(\n",
    "        \"Cannot use optimised colorless FDN parameters and colorless FDN loss together\"\n",
    "    )\n",
    "\n",
    "# are we using a colorless FDN to get the feedback matrix?\n",
    "if config_dict.colorless_fdn_config.use_colorless_prototype:\n",
    "    colorless_fdn_params = get_colorless_fdn_params(config_dict)\n",
    "else:\n",
    "    colorless_fdn_params = None\n",
    "\n",
    "# initialise the model\n",
    "model = DiffDirectionalFDNVarReceiverPos(\n",
    "    room_data.sample_rate,\n",
    "    room_data.num_rooms,\n",
    "    config_dict.delay_length_samps,\n",
    "    trainer_config.device,\n",
    "    config_dict.feedback_loop_config,\n",
    "    config_dict.output_filter_config,\n",
    "    ambi_order=config_dict.ambi_order,\n",
    "    desired_directions=room_data.sph_directions,\n",
    "    common_decay_times=room_data.common_decay_times if\n",
    "    config_dict.decay_filter_config.initialise_with_opt_values else None,\n",
    "    band_centre_hz=room_data.band_centre_hz,\n",
    "    colorless_fdn_params=colorless_fdn_params,\n",
    "    use_colorless_loss=trainer_config.use_colorless_loss,\n",
    ")\n"
   ]
  },
  {
   "cell_type": "markdown",
   "id": "4",
   "metadata": {},
   "source": [
    "#### Instantiate inference and plotting object. Loop through epochs to plot EDC error in each epoch"
   ]
  },
  {
   "cell_type": "code",
   "execution_count": null,
   "id": "5",
   "metadata": {},
   "outputs": [],
   "source": [
    "num_epochs = trainer_config.max_epochs\n",
    "plot_obj = InferDiffDirectionalFDN(room_data, config_dict, model, apply_filter_norm=True)\n",
    "\n",
    "for epoch in [num_epochs]:\n",
    "    logger.info(f'Plotting EDC error for epoch number {epoch}')\n",
    "    # get the model output\n",
    "    est_points, est_dir_rirs = plot_obj.get_model_output(epoch)\n",
    "    # plot the EDC error\n",
    "    original_edc, est_edc = plot_obj.plot_edc_error_in_space(est_dir_rirs.detach().cpu().numpy(), est_points.detach().cpu().numpy(), epoch)"
   ]
  },
  {
   "cell_type": "markdown",
   "id": "6",
   "metadata": {},
   "source": [
    "#### Investigate EDC fit at a single position"
   ]
  },
  {
   "cell_type": "code",
   "execution_count": null,
   "id": "7",
   "metadata": {},
   "outputs": [],
   "source": [
    "pos = 43\n",
    "fig, ax = plt.subplots(room_data.num_directions, 1, figsize=(8, 20), sharey=True)  # rows, cols\n",
    "\n",
    "for j in range(room_data.num_directions):\n",
    "    ax[j].plot(original_edc[pos, j, :])\n",
    "    ax[j].plot(est_edc[pos, j, :])\n",
    "    ax[j].set_title(f'Direction = {j+1}')\n",
    "\n",
    "ax[-1].set_xlabel('Time (samples)')\n",
    "fig.text(0.04, 0.5, 'EDC (dB)', va='center', rotation='vertical')\n",
    "# increase space between subplots\n",
    "fig.subplots_adjust(hspace=1.5)  # increase vertical spacing"
   ]
  },
  {
   "cell_type": "markdown",
   "id": "8",
   "metadata": {},
   "source": [
    "### Investigate the learned output gains in the SH domain"
   ]
  },
  {
   "cell_type": "code",
   "execution_count": null,
   "id": "9",
   "metadata": {},
   "outputs": [],
   "source": [
    "all_learned_params = plot_obj.all_learned_params\n",
    "learned_sh_gains = plot_obj.all_output_sh_gains\n",
    "\n",
    "init_sh_gains = learned_sh_gains[0][pos]\n",
    "final_sh_gains = learned_sh_gains[-1][pos]"
   ]
  },
  {
   "cell_type": "code",
   "execution_count": null,
   "id": "10",
   "metadata": {},
   "outputs": [],
   "source": [
    "print(init_sh_gains)\n",
    "print(final_sh_gains)\n",
    "print(room_data.amplitudes[pos, ...])"
   ]
  }
 ],
 "metadata": {
  "kernelspec": {
   "display_name": "Python 3 (ipykernel)",
   "language": "python",
   "name": "python3"
  },
  "language_info": {
   "codemirror_mode": {
    "name": "ipython",
    "version": 3
   },
   "file_extension": ".py",
   "mimetype": "text/x-python",
   "name": "python",
   "nbconvert_exporter": "python",
   "pygments_lexer": "ipython3",
   "version": "3.12.4"
  }
 },
 "nbformat": 4,
 "nbformat_minor": 5
}
