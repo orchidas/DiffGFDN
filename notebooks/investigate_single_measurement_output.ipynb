{
 "cells": [
  {
   "cell_type": "code",
   "execution_count": null,
   "id": "0",
   "metadata": {},
   "outputs": [],
   "source": [
    "import pickle\n",
    "import numpy as np\n",
    "import torch\n",
    "import re\n",
    "from pathlib import Path\n",
    "import matplotlib.pyplot as plt\n",
    "from scipy.io import loadmat\n",
    "import soundfile as sf\n",
    "\n",
    "from diff_gfdn.config.config import DiffGFDNConfig\n",
    "from diff_gfdn.filters import decay_times_to_gain_filters\n",
    "from diff_gfdn.plot import plot_edr, plot_polynomial_matrix_magnitude_response\n",
    "from run_model import load_and_validate_config"
   ]
  },
  {
   "cell_type": "code",
   "execution_count": null,
   "id": "1",
   "metadata": {},
   "outputs": [],
   "source": [
    "fpath = Path('../resources/Georg_3room_FDTD/srirs.pkl')\n",
    "with open (fpath, 'rb') as f:\n",
    "    srirs = pickle.load(f)\n",
    "\n",
    "common_decay_times = np.asarray(np.squeeze(srirs['common_decay_times'], axis=1))\n",
    "band_centre_hz = srirs['band_centre_hz']"
   ]
  },
  {
   "cell_type": "code",
   "execution_count": null,
   "id": "2",
   "metadata": {},
   "outputs": [],
   "source": [
    "config_path = '../data/config/'\n",
    "fig_path = '../figures/'\n",
    "config_file = config_path + 'single_rir_fit_random_coupling.yml'\n",
    "config_dict = load_and_validate_config(config_file,\n",
    "                                       DiffGFDNConfig)\n",
    "config_dict = config_dict.copy(update={\"num_groups\": 3})\n",
    "trainer_config = config_dict.trainer_config"
   ]
  },
  {
   "cell_type": "markdown",
   "id": "3",
   "metadata": {},
   "source": [
    "### Plot the T60 of the delay line filters"
   ]
  },
  {
   "cell_type": "code",
   "execution_count": null,
   "id": "4",
   "metadata": {},
   "outputs": [],
   "source": [
    "delays = config_dict.delay_length_samps\n",
    "num_del_per_group = int(config_dict.num_delay_lines / config_dict.num_groups)\n",
    "delays_by_group = [delays[i:i+num_del_per_group] for i in range(0, config_dict.num_delay_lines, num_del_per_group)]\n",
    "\n",
    "gain_per_sample = [decay_times_to_gain_filters(band_centre_hz,\n",
    "                                              common_decay_times[:, i],\n",
    "                                              delays_by_group[i],\n",
    "                                              config_dict.sample_rate,\n",
    "                                              plot_response=True) for i in range(config_dict.num_groups)]"
   ]
  },
  {
   "cell_type": "markdown",
   "id": "5",
   "metadata": {},
   "source": [
    "### Investigate optimised outputs"
   ]
  },
  {
   "cell_type": "code",
   "execution_count": null,
   "id": "6",
   "metadata": {},
   "outputs": [],
   "source": [
    "param_path = Path(trainer_config.train_dir + '/parameters_opt.mat')\n",
    "opt_params = loadmat(param_path.resolve())\n",
    "print(opt_params.keys())"
   ]
  },
  {
   "cell_type": "code",
   "execution_count": null,
   "id": "7",
   "metadata": {},
   "outputs": [],
   "source": [
    "feedback_matrix = opt_params['coupled_feedback_matrix']\n",
    "if feedback_matrix.ndim == 2:\n",
    "    plt.figure()\n",
    "    plt.matshow(np.abs(feedback_matrix))\n",
    "    plt.title('Optimised feedback matrix')\n",
    "elif feedback_matrix.ndim == 3:\n",
    "    coupling_matrix = opt_params['coupling_matrix']\n",
    "    plot_polynomial_matrix_magnitude_response(coupling_matrix, config_dict.sample_rate, \n",
    "                                              num_bins=2**11, title='Optimised coupling matrix')"
   ]
  },
  {
   "cell_type": "code",
   "execution_count": null,
   "id": "8",
   "metadata": {},
   "outputs": [],
   "source": [
    "input_gains = opt_params['input_gains'][0]\n",
    "print(f'Norm of input gain vector is {np.linalg.norm(input_gains):.4f}')\n",
    "\n",
    "if 'output_gains' in opt_params:\n",
    "    output_gains = opt_params['output_gains'][0]\n",
    "    print(f'Norm of output gain vector is {np.linalg.norm(output_gains):.4f}')"
   ]
  },
  {
   "cell_type": "markdown",
   "id": "9",
   "metadata": {},
   "source": [
    "### Check output data and compare with true IR"
   ]
  },
  {
   "cell_type": "code",
   "execution_count": null,
   "id": "10",
   "metadata": {},
   "outputs": [],
   "source": [
    "true_ir, fs = sf.read(Path(config_dict.ir_path).resolve())\n",
    "match = re.search(r'ir_\\([^)]+\\)', config_dict.ir_path)\n",
    "ir_name = match.group()\n",
    "approx_ir_path = f'{trainer_config.ir_dir}/approx_{ir_name}.wav'\n",
    "approx_ir, fs = sf.read(Path(approx_ir_path).resolve())"
   ]
  },
  {
   "cell_type": "code",
   "execution_count": null,
   "id": "11",
   "metadata": {},
   "outputs": [],
   "source": [
    "plot_edr(torch.tensor(true_ir), config_dict.sample_rate, \n",
    "         title=f'True RIR EDR', save_path=f'{fig_path}/true_edr_{ir_name}.png')\n",
    "plot_edr(torch.tensor(approx_ir[:, 0]), config_dict.sample_rate, \n",
    "         title=f'Estimated RIR EDR', save_path=f'{fig_path}/approx_edr_{ir_name}.png')"
   ]
  }
 ],
 "metadata": {
  "kernelspec": {
   "display_name": "Python 3 (ipykernel)",
   "language": "python",
   "name": "python3"
  },
  "language_info": {
   "codemirror_mode": {
    "name": "ipython",
    "version": 3
   },
   "file_extension": ".py",
   "mimetype": "text/x-python",
   "name": "python",
   "nbconvert_exporter": "python",
   "pygments_lexer": "ipython3",
   "version": "3.12.4"
  }
 },
 "nbformat": 4,
 "nbformat_minor": 5
}
