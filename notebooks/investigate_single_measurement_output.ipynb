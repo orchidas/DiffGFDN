{
 "cells": [
  {
   "cell_type": "code",
   "execution_count": null,
   "id": "0",
   "metadata": {},
   "outputs": [],
   "source": [
    "import numpy as np\n",
    "import torch\n",
    "import re\n",
    "from pathlib import Path\n",
    "import matplotlib.pyplot as plt\n",
    "from scipy.io import loadmat\n",
    "from scipy.signal import sosfreqz, sos2zpk, tf2zpk\n",
    "import soundfile as sf\n",
    "\n",
    "from diff_gfdn.config.config import DiffGFDNConfig\n",
    "from diff_gfdn.dataloader import ThreeRoomDataset\n",
    "from diff_gfdn.filters import decay_times_to_gain_filters\n",
    "from diff_gfdn.utils import is_unitary\n",
    "from diff_gfdn.plot import plot_edr, plot_polynomial_matrix_magnitude_response\n",
    "from run_model import load_and_validate_config"
   ]
  },
  {
   "cell_type": "code",
   "execution_count": null,
   "id": "1",
   "metadata": {},
   "outputs": [],
   "source": [
    "config_path = '../data/config/'\n",
    "fig_path = '../figures/'\n",
    "config_file = config_path + 'single_rir_fit_random_coupling_out_filters.yml'\n",
    "config_dict = load_and_validate_config(config_file,\n",
    "                                       DiffGFDNConfig)\n",
    "trainer_config = config_dict.trainer_config"
   ]
  },
  {
   "cell_type": "code",
   "execution_count": null,
   "id": "2",
   "metadata": {},
   "outputs": [],
   "source": [
    "room_data = ThreeRoomDataset(Path(config_dict.room_dataset_path).resolve())\n",
    "config_dict = config_dict.copy(update={\"num_groups\": room_data.num_rooms})\n",
    "\n",
    "common_decay_times = room_data.common_decay_times\n",
    "band_centre_hz = room_data.band_centre_hz"
   ]
  },
  {
   "cell_type": "markdown",
   "id": "3",
   "metadata": {},
   "source": [
    "### Plot the T60 of the delay line filters"
   ]
  },
  {
   "cell_type": "code",
   "execution_count": null,
   "id": "4",
   "metadata": {},
   "outputs": [],
   "source": [
    "delays = config_dict.delay_length_samps\n",
    "num_del_per_group = int(config_dict.num_delay_lines / config_dict.num_groups)\n",
    "delays_by_group = [delays[i:i+num_del_per_group] for i in range(0, config_dict.num_delay_lines, num_del_per_group)]\n",
    "\n",
    "gain_per_sample = [decay_times_to_gain_filters(band_centre_hz,\n",
    "                                              common_decay_times[:, i],\n",
    "                                              delays_by_group[i],\n",
    "                                              config_dict.sample_rate,\n",
    "                                              plot_response=True) for i in range(config_dict.num_groups)]\n",
    "\n",
    "fig2, ax2 = plt.subplots(subplot_kw={'projection': 'polar'})\n",
    "for n in range(config_dict.num_groups):\n",
    "    # also plot the poles and zeros\n",
    "    all_zeros = []\n",
    "    all_poles = []\n",
    "    for k in range(num_del_per_group):\n",
    "        zeros, poles, gain = tf2zpk(gain_per_sample[n][k, :, 0], gain_per_sample[n][k, :, 1])\n",
    "        all_zeros.append(zeros)\n",
    "        all_poles.append(poles)\n",
    "        \n",
    "    ax2.plot(np.angle(all_poles), np.abs(all_poles), 'x', label=f'Group {n}')    \n",
    "\n",
    "ax2.set_rmax(1.1)\n",
    "ax2.set_rticks([0.25, 0.5, 0.75, 1,])  # Less radial ticks\n",
    "ax2.set_rlabel_position(-22.5)  # Move radial labels away from plotted line\n",
    "ax2.grid(True)"
   ]
  },
  {
   "cell_type": "markdown",
   "id": "5",
   "metadata": {},
   "source": [
    "### Check output data and compare with true IR"
   ]
  },
  {
   "cell_type": "code",
   "execution_count": null,
   "id": "6",
   "metadata": {},
   "outputs": [],
   "source": [
    "true_ir, fs = sf.read(Path(config_dict.ir_path).resolve())\n",
    "match = re.search(r'ir_\\([^)]+\\)', config_dict.ir_path)\n",
    "dir_name = Path(trainer_config.ir_dir).parts[-1]\n",
    "ir_name = match.group()\n",
    "approx_ir_path = f'{trainer_config.ir_dir}/approx_{ir_name}.wav'\n",
    "approx_ir, fs = sf.read(Path(approx_ir_path).resolve())\n",
    "\n",
    "plt.plot(np.stack((true_ir, approx_ir[:len(true_ir), 0]), axis=-1))\n",
    "plt.xlim([0, int(1.5 * config_dict.sample_rate)])\n",
    "plt.savefig(f'{fig_path}/compare_{dir_name}_{ir_name}.png')\n",
    "plt.show()\n",
    "\n",
    "# find receiver position from string\n",
    "match = re.search(r'ir_\\(([^,]+), ([^,]+), ([^,]+)\\)', ir_name)\n",
    "# Convert the extracted values to floats\n",
    "x, y, z = map(float, match.groups())\n",
    "rec_pos = np.array([x, y, z])\n",
    "\n",
    "# find amplitudes corresponding to the receiver position\n",
    "rec_pos_idx = np.where(\n",
    "    np.all(room_data.receiver_position == rec_pos, axis=1))[0]\n",
    "amplitudes = room_data.amplitudes[..., rec_pos_idx]"
   ]
  },
  {
   "cell_type": "code",
   "execution_count": null,
   "id": "7",
   "metadata": {},
   "outputs": [],
   "source": [
    "plot_edr(torch.tensor(true_ir), config_dict.sample_rate, \n",
    "         title=f'True RIR EDR', save_path=f'{fig_path}/{dir_name}_true_edr_{ir_name}.png')\n",
    "plot_edr(torch.tensor(approx_ir[:, 0]), config_dict.sample_rate, \n",
    "         title=f'Estimated RIR EDR', save_path=f'{fig_path}/{dir_name}_approx_edr_{ir_name}.png')"
   ]
  },
  {
   "cell_type": "markdown",
   "id": "8",
   "metadata": {},
   "source": [
    "### Investigate optimised outputs"
   ]
  },
  {
   "cell_type": "code",
   "execution_count": null,
   "id": "9",
   "metadata": {},
   "outputs": [],
   "source": [
    "param_path = Path(trainer_config.train_dir + '/parameters_opt.mat')\n",
    "opt_params = loadmat(param_path.resolve())\n",
    "print(opt_params.keys())"
   ]
  },
  {
   "cell_type": "code",
   "execution_count": null,
   "id": "10",
   "metadata": {},
   "outputs": [],
   "source": [
    "feedback_matrix = opt_params['coupled_feedback_matrix']\n",
    "if feedback_matrix.ndim == 2:\n",
    "    unit_flag, max_val = is_unitary(torch.tensor(feedback_matrix), max_tol=1e-4)\n",
    "    assert unit_flag\n",
    "    plt.figure()\n",
    "    plt.matshow(np.abs(feedback_matrix))\n",
    "    plt.title('Optimised feedback matrix')\n",
    "elif feedback_matrix.ndim == 3:\n",
    "    coupling_matrix = opt_params['coupling_matrix']\n",
    "    plot_polynomial_matrix_magnitude_response(coupling_matrix, config_dict.sample_rate, \n",
    "                                              num_bins=2**11, title='Optimised coupling matrix')"
   ]
  },
  {
   "cell_type": "code",
   "execution_count": null,
   "id": "11",
   "metadata": {},
   "outputs": [],
   "source": [
    "input_gains = opt_params['input_gains'][0]\n",
    "print(f'Norm of input gain vector is {np.linalg.norm(input_gains):.4f}')\n",
    "\n",
    "if 'output_gains' in opt_params:\n",
    "    output_gains = opt_params['output_gains'][0]\n",
    "    print(f'Norm of output gain vector is {np.linalg.norm(output_gains):.4f}')\n",
    "elif 'output_biquad_coeffs' in opt_params:\n",
    "\n",
    "    output_biquad_coeffs = opt_params['output_biquad_coeffs']\n",
    "    svf_params = opt_params['output_svf_params']\n",
    "    fig, ax = plt.subplots()\n",
    "    fig2, ax2 = plt.subplots(subplot_kw={'projection': 'polar'})\n",
    "    for n in range(config_dict.num_groups):\n",
    "        cur_biquad_coeffs = output_biquad_coeffs[n]\n",
    "        cur_svf_params = svf_params[n, ...]\n",
    "        \n",
    "        # ensure a0 = 1 (needed by scipy)\n",
    "        for k in range(cur_biquad_coeffs.shape[0]):\n",
    "            cur_biquad_coeffs[k,:] /= cur_biquad_coeffs[k, 3]\n",
    "\n",
    "        freqs, filt_response = sosfreqz(cur_biquad_coeffs, worN=2**9, fs=config_dict.sample_rate)\n",
    "        ax.semilogx(freqs, 20*np.log10(np.abs(filt_response)), label=f'Group {n}')\n",
    "        # also plot the amplitudes estimated from the common slope model\n",
    "        ax.semilogx(band_centre_hz, 20*np.log10(np.abs(amplitudes[:, n])), marker='o', label=f'Amplitude {n}')\n",
    "\n",
    "        # also plot the poles and zeros\n",
    "        zeros, poles, gain = sos2zpk(cur_biquad_coeffs)\n",
    "        ax2.plot(np.angle(zeros), np.abs(zeros), 'o', label=f'Group {n}')\n",
    "        ax2.plot(np.angle(poles), np.abs(poles), 'x', label=f'Group {n}')\n",
    "\n",
    "        print(f'Pole frequencies (rad): {np.angle(poles)}')\n",
    "        print(f'SVF Q factor : {cur_svf_params[:, 1]}')\n",
    "        \n",
    "        \n",
    "    ax.set_xlabel('Frequency (Hz)')\n",
    "    ax.set_ylabel('Magnitude (dB)')\n",
    "    ax.set_title(f'Output filter response')\n",
    "    ax.set_ylim([-100, 20])\n",
    "    ax.legend()\n",
    "\n",
    "    ax2.set_rmax(2)\n",
    "    ax2.set_rticks([0.5, 1, 1.5, 2])  # Less radial ticks\n",
    "    ax2.set_rlabel_position(\n",
    "        -22.5)  # Move radial labels away from plotted line\n",
    "    ax2.grid(True)\n"
   ]
  },
  {
   "cell_type": "code",
   "execution_count": null,
   "id": "12",
   "metadata": {},
   "outputs": [],
   "source": [
    "import numpy as np\n",
    "from numpy.typing import ArrayLike\n",
    "from scipy.fft import rfftfreq\n",
    "from diff_gfdn.losses import scaled_shifted_sigmoid_inverse\n",
    "\n",
    "nfft = 2**9\n",
    "x = rfftfreq(nfft, d=1.0/room_data.sample_rate)\n",
    "cutoff = 1e3\n",
    "num_scale = 10\n",
    "scale_factor = np.logspace(-3, 0, num_scale)\n",
    "top = 2\n",
    "bottom = 1.0\n",
    "\n",
    "plt.figure()\n",
    "for sf in range(len(scale_factor)):\n",
    "    fn = scaled_shifted_sigmoid_inverse(torch.tensor(x), scale_factor[sf], cutoff, top, bottom)\n",
    "    plt.plot(x, fn, label=f'scale_factor: {scale_factor[sf]:.3f}')\n",
    "plt.legend()\n",
    "plt.show()\n"
   ]
  }
 ],
 "metadata": {
  "kernelspec": {
   "display_name": "Python 3 (ipykernel)",
   "language": "python",
   "name": "python3"
  },
  "language_info": {
   "codemirror_mode": {
    "name": "ipython",
    "version": 3
   },
   "file_extension": ".py",
   "mimetype": "text/x-python",
   "name": "python",
   "nbconvert_exporter": "python",
   "pygments_lexer": "ipython3",
   "version": "3.12.4"
  }
 },
 "nbformat": 4,
 "nbformat_minor": 5
}
