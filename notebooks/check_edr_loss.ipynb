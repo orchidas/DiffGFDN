{
 "cells": [
  {
   "cell_type": "code",
   "execution_count": null,
   "id": "0",
   "metadata": {},
   "outputs": [],
   "source": [
    "from diff_gfdn.config.config import DiffGFDNConfig\n",
    "from diff_gfdn.dataloader import ThreeRoomDataset, load_dataset, custom_collate, RoomDataset\n",
    "from diff_gfdn.utils import db\n",
    "from pathlib import Path\n",
    "from numpy.typing import NDArray, ArrayLike\n",
    "import torch\n",
    "import numpy as np\n",
    "import torch.nn.functional as F\n",
    "from scipy.fft import rfftfreq, rfft\n",
    "from scipy.signal import fftconvolve\n",
    "import matplotlib.pyplot as plt\n",
    "from typing import Optional"
   ]
  },
  {
   "cell_type": "markdown",
   "id": "1",
   "metadata": {},
   "source": [
    "We want to impose an EDR based loss in checking how well our DiffGFDN fits the data. The EDR loss is defined as:\n",
    "\n",
    "$$\\text{EDR}_{\\text{loss}}(k,m) = 10 \\log_{10} \\left(\\frac{\\sum_{\\tau=m}^M |H(k, \\tau) |^2} {\\sum_{\\tau=m}^M |\\hat{H}(k, \\tau) |^2}\\right)$$\n",
    "\n",
    "For this, we need the STFT bins of the RIRs, $H(k, m)$. However, we only have access to their DFT bins, $H(k)$. Can we get the EDR without calculating an explicit STFT?\n",
    "\n",
    "\\begin{align}\n",
    "H(k,m) &= \\sum_{n=-\\infty}^{\\infty} h(n) w(n-mR) e^{-j\\omega_k n} \\\\\n",
    "&= \\text{DTFT}( h \\ .  \\text{shift}_{mR} (w))_k\n",
    "\\\\\n",
    "&= \\left(\\text{DTFT}(h) \\circledast \\text{DTFT}(w) \\right)_k  \\exp(-j\\omega_k mR) \\\\\n",
    "&= (H \\circledast W)_k  \\exp(-j\\omega_k mR)\n",
    "\\end{align} "
   ]
  },
  {
   "cell_type": "code",
   "execution_count": null,
   "id": "2",
   "metadata": {},
   "outputs": [],
   "source": [
    "def plot_spectrogram(S: torch.tensor, freqs: ArrayLike, time_frames: ArrayLike, title:Optional[str]=None):\n",
    "    plt.figure()\n",
    "    plt.imshow(db(np.abs(S)).cpu().detach().numpy(), aspect='auto', origin='lower',\n",
    "    extent=[time_frames.min(), time_frames.max(), freqs.min(), freqs.max()])\n",
    "    plt.xlabel('Time (s)')\n",
    "    plt.ylabel('Frequency (Hz)')\n",
    "    cbar = plt.colorbar()\n",
    "    cbar.set_label('dB')\n",
    "    if title is not None:\n",
    "        plt.title(title)\n",
    "    plt.show()\n",
    "    \n",
    "\n",
    "def get_stft_torch(rir: torch.tensor, sample_rate:float, \n",
    "                    win_size:int, hop_size:int, window:Optional[torch.tensor]=None, \n",
    "                    nfft: int=2**10, time_axis:int=-1):\n",
    "    time_samps = rir.shape[time_axis]\n",
    "    if time_samps % hop_size != 0:\n",
    "        # zero pad the input signal\n",
    "        num_extra_zeros = hop_size * int(np.ceil(time_samps/hop_size)) - time_samps\n",
    "        # pad zeros to the right of the last dimension (time)\n",
    "        rir = F.pad(input=rir, pad=(0, num_extra_zeros), mode='constant', value=0)\n",
    "\n",
    "    if window is None:\n",
    "        window = torch.hann_window(win_size)\n",
    "        assert hop_size == win_size // 2\n",
    "    \n",
    "    # complex tensor of shape B (batch size), N(num frequency samples), T(num_frames):\n",
    "    S = torch.stft(rir, nfft, hop_length=hop_size, win_length=win_size, window=window, center=False, \n",
    "                   normalized=False, onesided=True, return_complex=True)\n",
    "\n",
    "    freqs = rfftfreq(nfft, d=1.0/sample_rate)\n",
    "    time_frames = np.arange(0, rir.shape[time_axis] - hop_size, hop_size) / sample_rate\n",
    "    assert len(freqs) == S.shape[0]\n",
    "    assert len(time_frames) == S.shape[-1]\n",
    "    return S, freqs, time_frames\n",
    "\n",
    "def get_edr_from_stft(S: torch.tensor):\n",
    "    num_freqs, num_time_frames = S.shape\n",
    "    edr = torch.zeros((num_freqs, num_time_frames), dtype=torch.float32)\n",
    "    for m in range(num_time_frames):\n",
    "        edr[:, m] = torch.sum(torch.abs(S[:, m:])**2, axis=-1)\n",
    "    edr = db(edr, is_squared = True)\n",
    "    return edr\n",
    "    "
   ]
  },
  {
   "cell_type": "markdown",
   "id": "3",
   "metadata": {},
   "source": [
    "### Get STFT"
   ]
  },
  {
   "cell_type": "code",
   "execution_count": null,
   "id": "4",
   "metadata": {},
   "outputs": [],
   "source": [
    "config_dict = DiffGFDNConfig()\n",
    "room_data = ThreeRoomDataset(Path(config_dict.room_dataset_path).resolve())\n",
    "single_rir = torch.from_numpy(room_data.rirs[0, ...])\n",
    "fs = room_data.sample_rate"
   ]
  },
  {
   "cell_type": "code",
   "execution_count": null,
   "id": "5",
   "metadata": {},
   "outputs": [],
   "source": [
    "win_size = 2**9\n",
    "hop_size = win_size // 2\n",
    "S, freqs, time_frames = get_stft_torch(single_rir, fs, win_size=win_size, hop_size=hop_size, nfft=win_size)\n",
    "plot_spectrogram(S, freqs, time_frames, title='RIR STFT')"
   ]
  },
  {
   "cell_type": "markdown",
   "id": "6",
   "metadata": {},
   "source": [
    "### Plot EDR from STFT"
   ]
  },
  {
   "cell_type": "code",
   "execution_count": null,
   "id": "7",
   "metadata": {},
   "outputs": [],
   "source": [
    "edr = get_edr_from_stft(S)\n",
    "plot_spectrogram(edr, freqs, time_frames, title='EDR')"
   ]
  },
  {
   "cell_type": "markdown",
   "id": "8",
   "metadata": {},
   "source": [
    "### Try calculating STFT from the DTFT directly \n",
    "This does not give a good match since we are using the DFT of the signal, and not its DTFT."
   ]
  },
  {
   "cell_type": "code",
   "execution_count": null,
   "id": "9",
   "metadata": {},
   "outputs": [],
   "source": [
    "def get_custom_stft_from_dft(rir_response:torch.tensor, sample_rate: float, win_size: int, hop_size: int, \n",
    "                             window: Optional[torch.tensor]=None, nfft: int = 2**10, freq_axis:int=-1):\n",
    "    \"\"\"\n",
    "    Compute the Short-Time Fourier Transform (STFT) directly from the DTFT using the convolution rule.\n",
    "\n",
    "    Parameters:\n",
    "        rir_respomse (torch.tensor): The DTFT of the signal (frequency-domain representation).\n",
    "        sample_rate (float): sampling rate of the signal\n",
    "        hop_size (int): The number of samples to hop between windows.\n",
    "        fft_size (int): The FFT size for STFT.\n",
    "        window (torch.tensor): The window function (in time-domain).\n",
    "\n",
    "\n",
    "    Returns:\n",
    "        STFT (2D numpy array): The STFT of the signal.\n",
    "    \"\"\"\n",
    "    num_freq_bins = (rir_response.shape[freq_axis] - 1) * 2\n",
    "    # number of windows in STFT\n",
    "    omega_vals = torch.fft.rfftfreq(num_freq_bins)\n",
    "\n",
    "    if window is None:\n",
    "        window = torch.hann_window(win_size)\n",
    "        assert hop_size == win_size // 2\n",
    "\n",
    "    # assuming number of time frames is equal to the number of frequency bins\n",
    "    num_windows = (num_freq_bins - len(window)) // hop_size + 1  # Number of time windows\n",
    "    stft_matrix = torch.zeros((num_windows, nfft), dtype=torch.complex64)\n",
    "\n",
    "    # Compute the DTFT of the window function\n",
    "    window_response = rfft(window, num_freq_bins)\n",
    "    \n",
    "    # For each time frame (hop), multiply X(omega) with the window's DTFT and shift\n",
    "    for i in range(num_windows):\n",
    "        # The \"shift\" in time corresponds to a modulation in the frequency domain\n",
    "        time_shift = torch.exp(-1j * omega_vals * (i * hop_size))\n",
    "\n",
    "        # Apply the convolution rule: modulate DTFT and multiply with window DTFT\n",
    "        rir_response_shifted = rir_response * time_shift\n",
    "        rir_response_windowed = rir_response_shifted * window_response\n",
    "\n",
    "        # Store the result in the STFT matrix (using FFT-size binning)\n",
    "        stft_matrix[i, :] = rir_response_windowed[:nfft]\n",
    "\n",
    "    freqs = rfftfreq(nfft, d=1.0/sample_rate)\n",
    "    time_frames = np.arange(0, num_windows * hop_size, hop_size) / sample_rate\n",
    "\n",
    "    return stft_matrix, freqs, time_frames"
   ]
  },
  {
   "cell_type": "code",
   "execution_count": null,
   "id": "10",
   "metadata": {},
   "outputs": [],
   "source": [
    "win_size = 2**9\n",
    "hop_size = win_size // 2\n",
    "single_rir_response = torch.from_numpy(room_data.rir_mag_response[0, ...])\n",
    "S_custom, freqs, time_frames = get_custom_stft_from_dft(single_rir_response, fs, win_size=win_size, hop_size=hop_size, nfft=win_size)\n",
    "plot_spectrogram(S_custom, freqs, time_frames, title='Custom RIR STFT')"
   ]
  }
 ],
 "metadata": {
  "kernelspec": {
   "display_name": "Python 3 (ipykernel)",
   "language": "python",
   "name": "python3"
  },
  "language_info": {
   "codemirror_mode": {
    "name": "ipython",
    "version": 3
   },
   "file_extension": ".py",
   "mimetype": "text/x-python",
   "name": "python",
   "nbconvert_exporter": "python",
   "pygments_lexer": "ipython3",
   "version": "3.12.4"
  }
 },
 "nbformat": 4,
 "nbformat_minor": 5
}
