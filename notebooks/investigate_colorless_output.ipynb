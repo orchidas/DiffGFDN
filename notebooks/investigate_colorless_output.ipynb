{
 "cells": [
  {
   "cell_type": "code",
   "execution_count": 1,
   "metadata": {},
   "outputs": [],
   "source": [
    "import numpy as np\n",
    "import torch\n",
    "import os\n",
    "from pathlib import Path\n",
    "import matplotlib.pyplot as plt\n",
    "import soundfile as sf\n",
    "\n",
    "from diff_gfdn.config.config import DiffGFDNConfig\n",
    "from diff_gfdn.colorless_fdn.model import ColorlessFDN\n",
    "from diff_gfdn.utils import get_response\n",
    "from diff_gfdn.solver import data_parser_var_receiver_pos\n",
    "from diff_gfdn.colorless_fdn.model import ColorlessFDN\n",
    "\n",
    "os.chdir('..')  # This changes the working directory to DiffGFDN\n",
    "import sys\n",
    "sys.path.append('/Users/dalsag1/Aalto Dropbox/Gloria Dal Santo/aalto/projects/orchi/DiffGFDN/src')\n",
    "sys.path.append('/Users/dalsag1/Aalto Dropbox/Gloria Dal Santo/aalto/projects/orchi/DiffGFDN/src/run_model.py')\n",
    "from run_model import load_and_validate_config\n"
   ]
  },
  {
   "cell_type": "code",
   "execution_count": 2,
   "metadata": {},
   "outputs": [],
   "source": [
    "config_path = 'data/config/'\n",
    "fig_path = 'figures/'\n",
    "config_name = 'synth_data_broadband_two_coupled_rooms_grid_training_colorless_prototype.yml'\n",
    "config_file = config_path + config_name\n",
    "config_dict = load_and_validate_config(config_file,\n",
    "                                       DiffGFDNConfig)\n",
    "trainer_config = config_dict.trainer_config\n",
    "checkpoint_dir = Path(trainer_config.train_dir + 'colorless-fdn/' + 'checkpoints/').resolve()\n",
    "max_epochs = trainer_config.max_epochs"
   ]
  },
  {
   "cell_type": "code",
   "execution_count": 3,
   "metadata": {},
   "outputs": [],
   "source": [
    "num_freq_samples = int(3*config_dict.sample_rate)\n",
    "mag = torch.ones(num_freq_samples)\n",
    "angle = angle = torch.arange(0, 1, 1 / num_freq_samples)\n",
    "data = torch.polar(mag, angle * np.pi) \n",
    "\n",
    "room_data = data_parser_var_receiver_pos(\n",
    "    config_dict, num_freq_bins=trainer_config.num_freq_bins)\n",
    "\n",
    "config_dict = config_dict.copy(update={\"num_groups\": room_data.num_rooms})\n",
    "\n",
    "# create folder where to save the impulse responses \n",
    "output_dir = Path(trainer_config.train_dir + 'colorless-fdn/' + 'audio').resolve()  \n",
    "os.makedirs(output_dir, exist_ok=True)\n",
    "\n"
   ]
  },
  {
   "cell_type": "code",
   "execution_count": 6,
   "metadata": {},
   "outputs": [
    {
     "ename": "FileNotFoundError",
     "evalue": "[Errno 2] No such file or directory: '/Users/dalsag1/Aalto Dropbox/Gloria Dal Santo/aalto/projects/orchi/DiffGFDN/output/grid_rir_two_rooms_synth_data_broadband_colorless_fdn/colorless-fdn/checkpoints/model_e5.pt'",
     "output_type": "error",
     "traceback": [
      "\u001b[0;31m---------------------------------------------------------------------------\u001b[0m",
      "\u001b[0;31mFileNotFoundError\u001b[0m                         Traceback (most recent call last)",
      "Cell \u001b[0;32mIn[6], line 14\u001b[0m\n\u001b[1;32m      5\u001b[0m model \u001b[38;5;241m=\u001b[39m ColorlessFDN(\n\u001b[1;32m      6\u001b[0m     config_dict\u001b[38;5;241m.\u001b[39msample_rate,\n\u001b[1;32m      7\u001b[0m     config_dict\u001b[38;5;241m.\u001b[39mdelay_length_samps[i \u001b[38;5;241m*\u001b[39m\n\u001b[1;32m      8\u001b[0m                                     num_delay_lines_per_group:(i \u001b[38;5;241m+\u001b[39m \u001b[38;5;241m1\u001b[39m) \u001b[38;5;241m*\u001b[39m\n\u001b[1;32m      9\u001b[0m                                     num_delay_lines_per_group],\n\u001b[1;32m     10\u001b[0m     trainer_config\u001b[38;5;241m.\u001b[39mdevice)\n\u001b[1;32m     12\u001b[0m \u001b[38;5;28;01mfor\u001b[39;00m epoch \u001b[38;5;129;01min\u001b[39;00m \u001b[38;5;28mrange\u001b[39m(max_epochs):\n\u001b[1;32m     13\u001b[0m     \u001b[38;5;66;03m# load the trained weights for the particular epoch\u001b[39;00m\n\u001b[0;32m---> 14\u001b[0m     checkpoint \u001b[38;5;241m=\u001b[39m \u001b[43mtorch\u001b[49m\u001b[38;5;241;43m.\u001b[39;49m\u001b[43mload\u001b[49m\u001b[43m(\u001b[49m\u001b[38;5;124;43mf\u001b[39;49m\u001b[38;5;124;43m'\u001b[39;49m\u001b[38;5;132;43;01m{\u001b[39;49;00m\u001b[43mcheckpoint_dir\u001b[49m\u001b[38;5;132;43;01m}\u001b[39;49;00m\u001b[38;5;124;43m/model_e\u001b[39;49m\u001b[38;5;132;43;01m{\u001b[39;49;00m\u001b[43mepoch\u001b[49m\u001b[38;5;132;43;01m}\u001b[39;49;00m\u001b[38;5;124;43m.pt\u001b[39;49m\u001b[38;5;124;43m'\u001b[39;49m\u001b[43m,\u001b[49m\u001b[43m \u001b[49m\u001b[43mweights_only\u001b[49m\u001b[38;5;241;43m=\u001b[39;49m\u001b[38;5;28;43;01mTrue\u001b[39;49;00m\u001b[43m,\u001b[49m\u001b[43m \u001b[49m\u001b[43mmap_location\u001b[49m\u001b[38;5;241;43m=\u001b[39;49m\u001b[43mtorch\u001b[49m\u001b[38;5;241;43m.\u001b[39;49m\u001b[43mdevice\u001b[49m\u001b[43m(\u001b[49m\u001b[38;5;124;43m'\u001b[39;49m\u001b[38;5;124;43mcpu\u001b[39;49m\u001b[38;5;124;43m'\u001b[39;49m\u001b[43m)\u001b[49m\u001b[43m)\u001b[49m\n\u001b[1;32m     15\u001b[0m     \u001b[38;5;66;03m# Load the trained model state\u001b[39;00m\n\u001b[1;32m     16\u001b[0m     model\u001b[38;5;241m.\u001b[39mload_state_dict(checkpoint)\n",
      "File \u001b[0;32m~/Aalto Dropbox/Gloria Dal Santo/aalto/projects/orchi/DiffGFDN/.diff-gfdn/lib/python3.9/site-packages/torch/serialization.py:1319\u001b[0m, in \u001b[0;36mload\u001b[0;34m(f, map_location, pickle_module, weights_only, mmap, **pickle_load_args)\u001b[0m\n\u001b[1;32m   1316\u001b[0m \u001b[38;5;28;01mif\u001b[39;00m \u001b[38;5;124m\"\u001b[39m\u001b[38;5;124mencoding\u001b[39m\u001b[38;5;124m\"\u001b[39m \u001b[38;5;129;01mnot\u001b[39;00m \u001b[38;5;129;01min\u001b[39;00m pickle_load_args\u001b[38;5;241m.\u001b[39mkeys():\n\u001b[1;32m   1317\u001b[0m     pickle_load_args[\u001b[38;5;124m\"\u001b[39m\u001b[38;5;124mencoding\u001b[39m\u001b[38;5;124m\"\u001b[39m] \u001b[38;5;241m=\u001b[39m \u001b[38;5;124m\"\u001b[39m\u001b[38;5;124mutf-8\u001b[39m\u001b[38;5;124m\"\u001b[39m\n\u001b[0;32m-> 1319\u001b[0m \u001b[38;5;28;01mwith\u001b[39;00m \u001b[43m_open_file_like\u001b[49m\u001b[43m(\u001b[49m\u001b[43mf\u001b[49m\u001b[43m,\u001b[49m\u001b[43m \u001b[49m\u001b[38;5;124;43m\"\u001b[39;49m\u001b[38;5;124;43mrb\u001b[39;49m\u001b[38;5;124;43m\"\u001b[39;49m\u001b[43m)\u001b[49m \u001b[38;5;28;01mas\u001b[39;00m opened_file:\n\u001b[1;32m   1320\u001b[0m     \u001b[38;5;28;01mif\u001b[39;00m _is_zipfile(opened_file):\n\u001b[1;32m   1321\u001b[0m         \u001b[38;5;66;03m# The zipfile reader is going to advance the current file position.\u001b[39;00m\n\u001b[1;32m   1322\u001b[0m         \u001b[38;5;66;03m# If we want to actually tail call to torch.jit.load, we need to\u001b[39;00m\n\u001b[1;32m   1323\u001b[0m         \u001b[38;5;66;03m# reset back to the original position.\u001b[39;00m\n\u001b[1;32m   1324\u001b[0m         orig_position \u001b[38;5;241m=\u001b[39m opened_file\u001b[38;5;241m.\u001b[39mtell()\n",
      "File \u001b[0;32m~/Aalto Dropbox/Gloria Dal Santo/aalto/projects/orchi/DiffGFDN/.diff-gfdn/lib/python3.9/site-packages/torch/serialization.py:659\u001b[0m, in \u001b[0;36m_open_file_like\u001b[0;34m(name_or_buffer, mode)\u001b[0m\n\u001b[1;32m    657\u001b[0m \u001b[38;5;28;01mdef\u001b[39;00m \u001b[38;5;21m_open_file_like\u001b[39m(name_or_buffer, mode):\n\u001b[1;32m    658\u001b[0m     \u001b[38;5;28;01mif\u001b[39;00m _is_path(name_or_buffer):\n\u001b[0;32m--> 659\u001b[0m         \u001b[38;5;28;01mreturn\u001b[39;00m \u001b[43m_open_file\u001b[49m\u001b[43m(\u001b[49m\u001b[43mname_or_buffer\u001b[49m\u001b[43m,\u001b[49m\u001b[43m \u001b[49m\u001b[43mmode\u001b[49m\u001b[43m)\u001b[49m\n\u001b[1;32m    660\u001b[0m     \u001b[38;5;28;01melse\u001b[39;00m:\n\u001b[1;32m    661\u001b[0m         \u001b[38;5;28;01mif\u001b[39;00m \u001b[38;5;124m\"\u001b[39m\u001b[38;5;124mw\u001b[39m\u001b[38;5;124m\"\u001b[39m \u001b[38;5;129;01min\u001b[39;00m mode:\n",
      "File \u001b[0;32m~/Aalto Dropbox/Gloria Dal Santo/aalto/projects/orchi/DiffGFDN/.diff-gfdn/lib/python3.9/site-packages/torch/serialization.py:640\u001b[0m, in \u001b[0;36m_open_file.__init__\u001b[0;34m(self, name, mode)\u001b[0m\n\u001b[1;32m    639\u001b[0m \u001b[38;5;28;01mdef\u001b[39;00m \u001b[38;5;21m__init__\u001b[39m(\u001b[38;5;28mself\u001b[39m, name, mode):\n\u001b[0;32m--> 640\u001b[0m     \u001b[38;5;28msuper\u001b[39m()\u001b[38;5;241m.\u001b[39m\u001b[38;5;21m__init__\u001b[39m(\u001b[38;5;28;43mopen\u001b[39;49m\u001b[43m(\u001b[49m\u001b[43mname\u001b[49m\u001b[43m,\u001b[49m\u001b[43m \u001b[49m\u001b[43mmode\u001b[49m\u001b[43m)\u001b[49m)\n",
      "\u001b[0;31mFileNotFoundError\u001b[0m: [Errno 2] No such file or directory: '/Users/dalsag1/Aalto Dropbox/Gloria Dal Santo/aalto/projects/orchi/DiffGFDN/output/grid_rir_two_rooms_synth_data_broadband_colorless_fdn/colorless-fdn/checkpoints/model_e5.pt'"
     ]
    }
   ],
   "source": [
    "num_delay_lines_per_group = int(config_dict.num_delay_lines /\n",
    "                                config_dict.num_groups)\n",
    "\n",
    "for i in range(config_dict.num_groups):\n",
    "    model = ColorlessFDN(\n",
    "        config_dict.sample_rate,\n",
    "        config_dict.delay_length_samps[i *\n",
    "                                        num_delay_lines_per_group:(i + 1) *\n",
    "                                        num_delay_lines_per_group],\n",
    "        trainer_config.device)\n",
    "\n",
    "    for epoch in range(max_epochs-1):\n",
    "        # load the trained weights for the particular epoch\n",
    "        checkpoint = torch.load(f'{checkpoint_dir}/model_e{epoch}.pt', weights_only=True, map_location=torch.device('cpu'))\n",
    "        # Load the trained model state\n",
    "        model.load_state_dict(checkpoint)\n",
    "        # in eval mode, no gradients are calculated\n",
    "        model.eval()\n",
    "        # get the response of the model\n",
    "        H, h = get_response(data, model)\n",
    "        # plot the impulse response\n",
    "        sf.write(os.path.join(output_dir,f'model_e{epoch}.wav'), h, int(config_dict.sample_rate))\n"
   ]
  }
 ],
 "metadata": {
  "kernelspec": {
   "display_name": ".diff-gfdn",
   "language": "python",
   "name": "python3"
  },
  "language_info": {
   "codemirror_mode": {
    "name": "ipython",
    "version": 3
   },
   "file_extension": ".py",
   "mimetype": "text/x-python",
   "name": "python",
   "nbconvert_exporter": "python",
   "pygments_lexer": "ipython3",
   "version": "3.9.18"
  }
 },
 "nbformat": 4,
 "nbformat_minor": 2
}
