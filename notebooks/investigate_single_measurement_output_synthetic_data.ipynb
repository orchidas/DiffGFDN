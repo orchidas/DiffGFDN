{
 "cells": [
  {
   "cell_type": "code",
   "execution_count": null,
   "id": "0",
   "metadata": {},
   "outputs": [],
   "source": [
    "import numpy as np\n",
    "import torch\n",
    "import re\n",
    "import os\n",
    "from pathlib import Path\n",
    "import matplotlib.pyplot as plt\n",
    "from scipy.io import loadmat\n",
    "import soundfile as sf\n",
    "from torch import nn\n",
    "from scipy.fft import rfft, rfftfreq\n",
    "from numpy.typing import ArrayLike\n",
    "from typing import Optional\n",
    "\n",
    "from diff_gfdn.config.config import DiffGFDNConfig, CouplingMatrixType\n",
    "from diff_gfdn.solver import convert_common_slopes_rir_to_room_dataset\n",
    "from diff_gfdn.utils import is_unitary, db2lin, db, ms_to_samps\n",
    "from diff_gfdn.plot import plot_edr\n",
    "from run_model import load_and_validate_config\n",
    "os.chdir('..')  # This changes the working directory to DiffGFDN"
   ]
  },
  {
   "cell_type": "code",
   "execution_count": null,
   "id": "1",
   "metadata": {},
   "outputs": [],
   "source": [
    "config_path = 'data/config/'\n",
    "fig_path = 'figures/'\n",
    "config_file = config_path + 'single_rir_fit_broadband_two_stage_decay_scalar_coupling.yml'\n",
    "config_dict = load_and_validate_config(config_file,\n",
    "                                       DiffGFDNConfig)\n",
    "trainer_config = config_dict.trainer_config"
   ]
  },
  {
   "cell_type": "code",
   "execution_count": null,
   "id": "2",
   "metadata": {},
   "outputs": [],
   "source": [
    "room_data = convert_common_slopes_rir_to_room_dataset(config_dict.room_dataset_path)\n",
    "config_dict = config_dict.copy(update={\"num_groups\": room_data.num_rooms})"
   ]
  },
  {
   "cell_type": "markdown",
   "id": "3",
   "metadata": {},
   "source": [
    "### Plot output data and compare RIR"
   ]
  },
  {
   "cell_type": "code",
   "execution_count": null,
   "id": "4",
   "metadata": {},
   "outputs": [],
   "source": [
    "true_ir, fs = sf.read(Path(config_dict.ir_path).resolve())\n",
    "match = re.search(r'ir_\\([^)]+\\)', config_dict.ir_path)\n",
    "dir_name = Path(trainer_config.ir_dir).parts[-1]\n",
    "ir_name = match.group()\n",
    "approx_ir_path = f'{trainer_config.ir_dir}/approx_{ir_name}.wav'\n",
    "approx_ir, fs = sf.read(Path(approx_ir_path).resolve())\n",
    "\n",
    "plt.plot(np.stack((true_ir, approx_ir[:len(true_ir), 0]), axis=-1))\n",
    "plt.xlim([0, int(1.5 * config_dict.sample_rate)])\n",
    "plt.savefig(f'{fig_path}/compare_{dir_name}_{ir_name}.png')\n",
    "plt.show()\n",
    "\n",
    "# find receiver position from string\n",
    "match = re.search(r'ir_\\(([^,]+), ([^,]+), ([^,]+)\\)', ir_name)\n",
    "# Convert the extracted values to floats\n",
    "x, y, z = map(float, match.groups())\n",
    "rec_pos = np.array([x, y, z])\n",
    "\n",
    "# find amplitudes corresponding to the receiver position\n",
    "rec_pos_idx = np.where(\n",
    "    np.all(room_data.receiver_position == rec_pos, axis=1))[0]\n",
    "amplitudes = room_data.amplitudes[..., rec_pos_idx]\n",
    "\n",
    "# plot EDF\n",
    "mixing_time_samp = ms_to_samps(20.0, fs)\n",
    "\n",
    "true_edf = np.flipud(np.cumsum(np.flipud(true_ir**2), axis=-1))\n",
    "synth_edf = np.flipud(np.cumsum(np.flipud(approx_ir[mixing_time_samp:mixing_time_samp + len(true_ir), 0]**2), axis=-1))\n",
    "time = np.linspace(0, (len(true_ir) - 1) / fs,\n",
    "                   len(true_ir))\n",
    "plt.plot(time, db(true_edf, is_squared=True), label='True EDF')\n",
    "plt.plot(time, db(synth_edf, is_squared=True), label='Synthesised EDF')\n",
    "plt.title(\n",
    "    f'EDF at position {x:.2f}, {y:.2f}, {z:.2f} m'\n",
    ")\n",
    "plt.legend()\n",
    "plt.show()\n",
    "\n",
    "# plot EDR\n",
    "plot_edr(torch.tensor(true_ir), config_dict.sample_rate, \n",
    "         title=f'True RIR EDR', save_path=f'{fig_path}/{dir_name}_true_edr_{ir_name}.png')\n",
    "plot_edr(torch.tensor(approx_ir[:, 0]), config_dict.sample_rate, \n",
    "         title=f'Estimated RIR EDR', save_path=f'{fig_path}/{dir_name}_approx_edr_{ir_name}.png')"
   ]
  },
  {
   "cell_type": "markdown",
   "id": "5",
   "metadata": {},
   "source": [
    "### Investigate optimised outputs"
   ]
  },
  {
   "cell_type": "code",
   "execution_count": null,
   "id": "6",
   "metadata": {},
   "outputs": [],
   "source": [
    "param_path = Path(trainer_config.train_dir + '/parameters_opt.mat')\n",
    "opt_params = loadmat(param_path.resolve())\n",
    "print(opt_params.keys())"
   ]
  },
  {
   "cell_type": "code",
   "execution_count": null,
   "id": "7",
   "metadata": {},
   "outputs": [],
   "source": [
    "feedback_matrix = opt_params['coupled_feedback_matrix']\n",
    "if feedback_matrix.ndim == 3:\n",
    "    raise NotImplementedError(\"PU matrix cannot be used for broadband gains\")\n",
    "else:\n",
    "    if config_dict.feedback_loop_config.coupling_matrix_type == CouplingMatrixType.SCALAR:\n",
    "        assert is_unitary(torch.from_numpy(feedback_matrix))[0]    \n",
    "        coupling_matrix = opt_params['coupling_matrix']\n",
    "        plt.figure()\n",
    "        plt.subplot(211)\n",
    "        plt.matshow(np.abs(coupling_matrix), fignum=False)\n",
    "        plt.colorbar()\n",
    "        plt.title('Coupling matrix')\n",
    "        plt.subplot(212)\n",
    "        plt.matshow(np.abs(feedback_matrix), fignum=False)\n",
    "        plt.colorbar()\n",
    "        plt.title('Coupled feedback matrix')\n",
    "        plt.tight_layout()\n",
    "        # plt.savefig(f'{fig_path}/scalar_coupling_matrix.png')\n",
    "    else:\n",
    "        unit_flag, max_val = is_unitary(torch.tensor(feedback_matrix), max_tol=1e-4)\n",
    "        assert unit_flag\n",
    "        plt.figure()\n",
    "        plt.matshow(np.abs(feedback_matrix))\n",
    "        plt.title('Optimised feedback matrix')"
   ]
  },
  {
   "cell_type": "code",
   "execution_count": null,
   "id": "8",
   "metadata": {},
   "outputs": [],
   "source": [
    "input_gains = opt_params['input_gains'][0]\n",
    "print(f'Norm of input gain vector is {np.linalg.norm(input_gains):.4f}')\n",
    "output_gains = opt_params['output_gains'][0]\n",
    "print(f'Norm of output gain vector is {np.linalg.norm(output_gains):.4f}')"
   ]
  },
  {
   "cell_type": "markdown",
   "id": "9",
   "metadata": {},
   "source": [
    "### Compare the magnitude response of the true and synthesized IR"
   ]
  },
  {
   "cell_type": "code",
   "execution_count": null,
   "id": "10",
   "metadata": {},
   "outputs": [],
   "source": [
    "def plot_mag_response(true_ir: ArrayLike, synth_ir: ArrayLike, fs: float, nfft: Optional[int]=None):\n",
    "    if nfft is None:\n",
    "        nfft = int(np.pow(2, np.ceil(np.log2(len(true_ir)))))\n",
    "    true_resp = rfft(true_ir, nfft)\n",
    "    synth_resp = rfft(synth_ir, nfft)\n",
    "    freq_bins = rfftfreq(nfft, d = 1.0/fs)\n",
    "\n",
    "    fig = plt.figure(figsize=(8, 6))\n",
    "    plt.semilogx(freq_bins, db(true_resp), label='True')\n",
    "    plt.semilogx(freq_bins, db(synth_resp), linestyle= '--', label='DiffGFDN')\n",
    "    plt.xlabel('Frequency (Hz)')\n",
    "    plt.ylabel('Magnitude (dB)')\n",
    "    plt.xlim([20, fs / 2])\n",
    "    plt.ylim([-60, 20])\n",
    "    plt.legend()\n",
    "    "
   ]
  },
  {
   "cell_type": "code",
   "execution_count": null,
   "id": "11",
   "metadata": {},
   "outputs": [],
   "source": [
    "plot_mag_response(true_ir, approx_ir[:, 0], fs)"
   ]
  }
 ],
 "metadata": {
  "kernelspec": {
   "display_name": "Python 3 (ipykernel)",
   "language": "python",
   "name": "python3"
  },
  "language_info": {
   "codemirror_mode": {
    "name": "ipython",
    "version": 3
   },
   "file_extension": ".py",
   "mimetype": "text/x-python",
   "name": "python",
   "nbconvert_exporter": "python",
   "pygments_lexer": "ipython3",
   "version": "3.12.4"
  }
 },
 "nbformat": 4,
 "nbformat_minor": 5
}
