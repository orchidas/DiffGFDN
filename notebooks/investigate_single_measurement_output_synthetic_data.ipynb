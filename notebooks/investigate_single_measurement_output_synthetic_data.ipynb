{
 "cells": [
  {
   "cell_type": "code",
   "execution_count": null,
   "id": "0",
   "metadata": {},
   "outputs": [],
   "source": [
    "import numpy as np\n",
    "import torch\n",
    "import re\n",
    "import os\n",
    "from pathlib import Path\n",
    "import matplotlib.pyplot as plt\n",
    "from scipy.io import loadmat\n",
    "import soundfile as sf\n",
    "from torch import nn\n",
    "from scipy.fft import rfft, rfftfreq\n",
    "from numpy.typing import ArrayLike\n",
    "from typing import Optional\n",
    "from IPython import display\n",
    "\n",
    "\n",
    "from diff_gfdn.dataloader import load_dataset, RIRData\n",
    "from diff_gfdn.config.config import DiffGFDNConfig, CouplingMatrixType\n",
    "from diff_gfdn.solver import convert_common_slopes_rir_to_room_dataset\n",
    "from diff_gfdn.model import DiffGFDNSinglePos\n",
    "from diff_gfdn.utils import is_unitary, db2lin, db, ms_to_samps, get_response\n",
    "from diff_gfdn.plot import plot_edr\n",
    "from diff_gfdn.analysis import get_decay_fit_net_params\n",
    "from run_model import load_and_validate_config\n",
    "\n",
    "os.chdir('..')  # This changes the working directory to DiffGFDN"
   ]
  },
  {
   "cell_type": "code",
   "execution_count": null,
   "id": "1",
   "metadata": {},
   "outputs": [],
   "source": [
    "config_path = 'data/config/'\n",
    "fig_path = 'figures/'\n",
    "config_file = config_path + 'single_rir_fit_broadband_two_stage_decay_scalar_coupling.yml'\n",
    "config_dict = load_and_validate_config(config_file,\n",
    "                                       DiffGFDNConfig)\n"
   ]
  },
  {
   "cell_type": "code",
   "execution_count": null,
   "id": "2",
   "metadata": {},
   "outputs": [],
   "source": [
    "room_data = convert_common_slopes_rir_to_room_dataset(config_dict.room_dataset_path)\n",
    "\n",
    "config_dict = config_dict.copy(update={\"num_groups\": room_data.num_rooms})\n",
    "\n",
    "trainer_config = config_dict.trainer_config\n",
    "# prepare the training and validation data for DiffGFDN\n",
    "if trainer_config.batch_size != room_data.num_freq_bins:\n",
    "    trainer_config = trainer_config.copy(\n",
    "        update={\"batch_size\": room_data.num_freq_bins})\n",
    "\n",
    "# initialise the model\n",
    "model = DiffGFDNSinglePos(config_dict.sample_rate,\n",
    "                 config_dict.num_groups,\n",
    "                 config_dict.delay_length_samps,\n",
    "                 trainer_config.device,\n",
    "                 config_dict.feedback_loop_config,\n",
    "                 config_dict.output_filter_config,\n",
    "                 use_absorption_filters=False,\n",
    "                 common_decay_times=room_data.common_decay_times,\n",
    "                 )"
   ]
  },
  {
   "cell_type": "markdown",
   "id": "3",
   "metadata": {},
   "source": [
    "### Plot output data and compare RIR"
   ]
  },
  {
   "cell_type": "code",
   "execution_count": null,
   "id": "4",
   "metadata": {},
   "outputs": [],
   "source": [
    "true_ir, fs = sf.read(Path(config_dict.ir_path).resolve())\n",
    "match = re.search(r'ir_\\([^)]+\\)', config_dict.ir_path)\n",
    "dir_name = Path(trainer_config.ir_dir).parts[-1]\n",
    "ir_name = match.group()\n",
    "approx_ir_path = f'{trainer_config.ir_dir}/approx_{ir_name}.wav'\n",
    "approx_ir, fs = sf.read(Path(approx_ir_path).resolve())\n",
    "\n",
    "plt.plot(np.stack((true_ir, approx_ir[:len(true_ir), 0]), axis=-1))\n",
    "plt.xlim([0, int(1.5 * config_dict.sample_rate)])\n",
    "plt.savefig(f'{fig_path}/compare_{dir_name}_{ir_name}.png')\n",
    "plt.show()\n",
    "\n",
    "# find receiver position from string\n",
    "match = re.search(r'ir_\\(([^,]+), ([^,]+), ([^,]+)\\)', ir_name)\n",
    "# Convert the extracted values to floats\n",
    "x, y, z = map(float, match.groups())\n",
    "rec_pos = np.array([x, y, z])\n",
    "\n",
    "# find amplitudes corresponding to the receiver position\n",
    "rec_pos_idx = np.where(\n",
    "    np.all(room_data.receiver_position == rec_pos, axis=1))[0]\n",
    "amplitudes = room_data.amplitudes[..., rec_pos_idx]\n",
    "\n",
    "# plot EDR\n",
    "plot_edr(torch.tensor(true_ir), config_dict.sample_rate, \n",
    "         title=f'True RIR EDR', save_path=f'{fig_path}/{dir_name}_true_edr_{ir_name}.png')\n",
    "plot_edr(torch.tensor(approx_ir[:, 0]), config_dict.sample_rate, \n",
    "         title=f'Estimated RIR EDR', save_path=f'{fig_path}/{dir_name}_approx_edr_{ir_name}.png')\n",
    "\n"
   ]
  },
  {
   "cell_type": "markdown",
   "id": "5",
   "metadata": {},
   "source": [
    "#### Plot EDF for each epoch"
   ]
  },
  {
   "cell_type": "code",
   "execution_count": null,
   "id": "6",
   "metadata": {},
   "outputs": [],
   "source": [
    "def get_edc_params(rir: ArrayLike, n_slopes: int, fs:float):\n",
    "    est_params_decay_net, norm_vals, fitted_edc_subband = get_decay_fit_net_params(rir, None, n_slopes, fs)\n",
    "    est_t60 = np.mean(est_params_decay_net[0], axis=0)\n",
    "    est_amp = np.mean(est_params_decay_net[1], axis=0)\n",
    "    fitted_edc = torch.squeeze(torch.mean(fitted_edc_subband, dim=0))\n",
    "    print(f'Estimated T60 {est_t60} s')\n",
    "    return est_t60, est_amp, fitted_edc"
   ]
  },
  {
   "cell_type": "code",
   "execution_count": null,
   "id": "7",
   "metadata": {},
   "outputs": [],
   "source": [
    "# read the model parameters per epoch\n",
    "checkpoint_dir = Path(trainer_config.train_dir + 'checkpoints/').resolve()\n",
    "max_epochs = trainer_config.max_epochs\n",
    "\n",
    "# create RIRDataset\n",
    "rir_data = RIRData(config_dict.ir_path,\n",
    "                   common_decay_times=room_data.common_decay_times,\n",
    "                   band_centre_hz=room_data.band_centre_hz,\n",
    "                   amplitudes=amplitudes\n",
    "                  )\n",
    "\n",
    "# prepare the training and validation data for DiffGFDN\n",
    "train_dataset = load_dataset(\n",
    "    rir_data, trainer_config.device, train_valid_split_ratio=1.0,\n",
    "    batch_size=trainer_config.batch_size, shuffle=False)\n",
    "\n",
    "\n",
    "mixing_time_samp = ms_to_samps(20.0, fs)\n",
    "trunc_true_ir = true_ir[mixing_time_samp:]\n",
    "true_edf = np.flipud(np.cumsum(np.flipud(trunc_true_ir**2), axis=-1))\n",
    "time = np.linspace(0, (len(trunc_true_ir) - 1) / fs,\n",
    "                       len(trunc_true_ir))\n",
    "est_t60, est_amp, fitted_edc = get_edc_params(trunc_true_ir, config_dict.num_groups, config_dict.sample_rate)\n",
    "\n",
    "fig, ax = plt.subplots(figsize=(8, 6))\n",
    "ax.plot(time, db(true_edf, is_squared=True), label='True EDF')\n",
    "ax.plot(time[:len(fitted_edc)], db(fitted_edc, is_squared=True), label='DecayFitNet EDF')\n",
    "ax.plot([0,0],  db(est_amp, is_squared=True), 'kx')\n",
    "ax.legend()"
   ]
  },
  {
   "cell_type": "code",
   "execution_count": null,
   "id": "8",
   "metadata": {},
   "outputs": [],
   "source": [
    "est_t60 = np.zeros((config_dict.num_groups, max_epochs))\n",
    "est_amp = np.zeros_like(est_t60)\n",
    "fig, ax = plt.subplots(figsize=(8, 6))\n",
    "ax.plot(time, db(true_edf, is_squared=True), label='True EDF')\n",
    "ax.plot([0,0],  db(est_amp, is_squared=True), 'kx')\n",
    "\n",
    "for epoch in range(0, max_epochs, 4):\n",
    "    # load the trained weights for the particular epoch\n",
    "    checkpoint = torch.load(f'{checkpoint_dir}/model_e{epoch}.pt', weights_only=True, map_location=torch.device('cpu'))\n",
    "    # Load the trained model state\n",
    "    model.load_state_dict(checkpoint)\n",
    "    # in eval mode, no gradients are calculated\n",
    "    model.eval()\n",
    "\n",
    "    for data in train_dataset:\n",
    "        H, approx_ir = get_response(data, model)\n",
    "\n",
    "    trunc_approx_ir = approx_ir[mixing_time_samp: mixing_time_samp + len(trunc_true_ir)]\n",
    "    est_t60[:, epoch], est_amp[:, epoch], fitted_edc = get_edc_params(trunc_approx_ir, config_dict.num_groups, config_dict.sample_rate)\n",
    "    synth_edf = np.flipud(np.cumsum(np.flipud(trunc_approx_ir**2), axis=-1))\n",
    "   \n",
    "    ax.plot(time, db(synth_edf, is_squared=True), label=f'Epoch={epoch}')\n",
    "    ax.plot([0,0], db(est_amp[:, epoch], is_squared=True), 'x')\n",
    "    ax.legend()\n",
    "\n",
    "    display.display(fig)  # Display the updated figure\n",
    "    display.clear_output(wait=True)  # Clear the previous output to keep updates in place\n",
    "    plt.pause(0.1)\n",
    "\n",
    "ax.set_title(\n",
    "    f'EDF at position {x:.2f}, {y:.2f}, {z:.2f} m'\n",
    ")\n",
    "plt.show()"
   ]
  },
  {
   "cell_type": "markdown",
   "id": "9",
   "metadata": {},
   "source": [
    "### Investigate optimised outputs"
   ]
  },
  {
   "cell_type": "code",
   "execution_count": null,
   "id": "10",
   "metadata": {},
   "outputs": [],
   "source": [
    "param_path = Path(trainer_config.train_dir + '/parameters_opt.mat')\n",
    "opt_params = loadmat(param_path.resolve())\n",
    "print(opt_params.keys())"
   ]
  },
  {
   "cell_type": "code",
   "execution_count": null,
   "id": "11",
   "metadata": {},
   "outputs": [],
   "source": [
    "feedback_matrix = opt_params['coupled_feedback_matrix']\n",
    "if feedback_matrix.ndim == 3:\n",
    "    raise NotImplementedError(\"PU matrix cannot be used for broadband gains\")\n",
    "else:\n",
    "    if config_dict.feedback_loop_config.coupling_matrix_type == CouplingMatrixType.SCALAR:\n",
    "        assert is_unitary(torch.from_numpy(feedback_matrix))[0]    \n",
    "        coupling_matrix = opt_params['coupling_matrix']\n",
    "        plt.figure()\n",
    "        plt.subplot(211)\n",
    "        plt.matshow(np.abs(coupling_matrix), fignum=False)\n",
    "        plt.colorbar()\n",
    "        plt.title('Coupling matrix')\n",
    "        plt.subplot(212)\n",
    "        plt.matshow(np.abs(feedback_matrix), fignum=False)\n",
    "        plt.colorbar()\n",
    "        plt.title('Coupled feedback matrix')\n",
    "        plt.tight_layout()\n",
    "        # plt.savefig(f'{fig_path}/scalar_coupling_matrix.png')\n",
    "    else:\n",
    "        unit_flag, max_val = is_unitary(torch.tensor(feedback_matrix), max_tol=1e-4)\n",
    "        assert unit_flag\n",
    "        plt.figure()\n",
    "        plt.matshow(np.abs(feedback_matrix))\n",
    "        plt.title('Optimised feedback matrix')"
   ]
  },
  {
   "cell_type": "code",
   "execution_count": null,
   "id": "12",
   "metadata": {},
   "outputs": [],
   "source": [
    "input_gains = opt_params['input_gains'][0]\n",
    "print(f'Norm of input gain vector is {np.linalg.norm(input_gains):.4f}')\n",
    "output_gains = opt_params['output_gains'][0]\n",
    "print(f'Norm of output gain vector is {np.linalg.norm(output_gains):.4f}')"
   ]
  },
  {
   "cell_type": "markdown",
   "id": "13",
   "metadata": {},
   "source": [
    "### Compare the magnitude response of the true and synthesized IR"
   ]
  },
  {
   "cell_type": "code",
   "execution_count": null,
   "id": "14",
   "metadata": {},
   "outputs": [],
   "source": [
    "def plot_mag_response(true_ir: ArrayLike, synth_ir: ArrayLike, fs: float, nfft: Optional[int]=None):\n",
    "    if nfft is None:\n",
    "        nfft = int(np.pow(2, np.ceil(np.log2(len(true_ir)))))\n",
    "    true_resp = rfft(true_ir, nfft)\n",
    "    synth_resp = rfft(synth_ir, nfft)\n",
    "    freq_bins = rfftfreq(nfft, d = 1.0/fs)\n",
    "\n",
    "    fig = plt.figure(figsize=(8, 6))\n",
    "    plt.semilogx(freq_bins, db(true_resp), label='True')\n",
    "    plt.semilogx(freq_bins, db(synth_resp), linestyle= '--', label='DiffGFDN')\n",
    "    plt.xlabel('Frequency (Hz)')\n",
    "    plt.ylabel('Magnitude (dB)')\n",
    "    plt.xlim([20, fs / 2])\n",
    "    plt.ylim([-60, 20])\n",
    "    plt.legend()\n",
    "    "
   ]
  },
  {
   "cell_type": "code",
   "execution_count": null,
   "id": "15",
   "metadata": {},
   "outputs": [],
   "source": [
    "plot_mag_response(true_ir, approx_ir[:, 0], fs)"
   ]
  }
 ],
 "metadata": {
  "kernelspec": {
   "display_name": "Python 3 (ipykernel)",
   "language": "python",
   "name": "python3"
  },
  "language_info": {
   "codemirror_mode": {
    "name": "ipython",
    "version": 3
   },
   "file_extension": ".py",
   "mimetype": "text/x-python",
   "name": "python",
   "nbconvert_exporter": "python",
   "pygments_lexer": "ipython3",
   "version": "3.12.4"
  }
 },
 "nbformat": 4,
 "nbformat_minor": 5
}
