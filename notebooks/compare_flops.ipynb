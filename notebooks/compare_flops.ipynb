{
 "cells": [
  {
   "cell_type": "code",
   "execution_count": null,
   "id": "0",
   "metadata": {},
   "outputs": [],
   "source": [
    "import numpy as np\n",
    "import matplotlib.pyplot as plt\n",
    "from numpy.typing import ArrayLike\n",
    "from typing import Union\n",
    "scale = 2\n",
    "plt.rcParams.update({\n",
    "    'font.size': scale * 8,  # base font size\n",
    "    'axes.labelsize': scale * 7,  # x/y label\n",
    "    'xtick.labelsize': scale * 7,\n",
    "    'ytick.labelsize': scale * 7,\n",
    "    'legend.fontsize': scale * 6,\n",
    "    'axes.titlesize': scale * 8,  # usually unused in journal figures\n",
    "\n",
    "})\n",
    "import os\n",
    "os.chdir('..')  # This changes the working directory to DiffGFDN"
   ]
  },
  {
   "cell_type": "code",
   "execution_count": null,
   "id": "1",
   "metadata": {},
   "outputs": [],
   "source": [
    "def gfdn_flops(N: ArrayLike, B: int, is_parallel:bool=False):\n",
    "    if is_parallel:\n",
    "        return B*(2*np.power(N, 2) + 4*N + 1)\n",
    "    else:\n",
    "       return 2*np.power(N, 2) + N + 27*N*B + 1\n",
    "\n",
    "def mlp_flops(num_layers: Union[int,ArrayLike], num_neurons: Union[int, ArrayLike], F:int) -> ArrayLike:\n",
    "    return num_layers * (2*np.power(num_neurons,2) + num_neurons) + F*(2*num_neurons + 1)\n",
    "    "
   ]
  },
  {
   "cell_type": "code",
   "execution_count": null,
   "id": "2",
   "metadata": {},
   "outputs": [],
   "source": [
    "B = 8\n",
    "N = np.arange(6, 24, 4)\n",
    "flops_single = gfdn_flops(N, B)\n",
    "flops_parallel = gfdn_flops(N, B, is_parallel=True)\n",
    "plt.figure()\n",
    "plt.plot(N, np.vstack((flops_single, flops_parallel)).T, '-x')\n",
    "plt.xlabel('Number of delay lines')\n",
    "plt.ylabel('FLOPS')\n",
    "plt.legend(['Single frequency-dep GFDN', 'Sum of parallel GFDNs'])\n",
    "plt.tight_layout()\n",
    "plt.savefig('figures/compare_flops_subband_GFDNs.png')\n",
    "plt.show()"
   ]
  },
  {
   "cell_type": "code",
   "execution_count": null,
   "id": "3",
   "metadata": {},
   "outputs": [],
   "source": [
    "num_layers = np.arange(1, 10, 1)\n",
    "num_neurons = np.power(2, np.arange(5, 10))\n",
    "NL, NN = np.meshgrid(num_layers, num_neurons)\n",
    "num_groups = 2\n",
    "B = 8\n",
    "flops_mlp_single = mlp_flops(NL, NN, 4 * num_groups * B)\n",
    "flops_mlp_parallel = B * mlp_flops(NL, NN, 2*num_groups)\n",
    "\n",
    "fig = plt.figure(figsize=(6,6))\n",
    "ax = fig.add_subplot(111, projection='3d')\n",
    "surf = ax.plot_surface(NL, NN, np.log10(flops_mlp_single))\n",
    "ax.plot_surface(NL, NN, np.log10(flops_mlp_parallel))\n",
    "ax.set_xlabel('Number of hidden layers')\n",
    "ax.set_ylabel('Number of neurons')\n",
    "ax.set_zlabel('Log_10 (FLOPS)')\n",
    "ax.legend(['Single frequency-dep. GFDN', 'Sum of parallel GFDNs'])\n",
    "ax.view_init(elev=10, azim=-45)  # Elevation (vertical), Azimuth (horizontal)\n",
    "fig.tight_layout()\n",
    "fig.savefig('figures/compare_flops_mlp.png')\n",
    "plt.show()"
   ]
  },
  {
   "cell_type": "markdown",
   "id": "4",
   "metadata": {},
   "source": [
    "### Plot storage requirements"
   ]
  },
  {
   "cell_type": "code",
   "execution_count": null,
   "id": "5",
   "metadata": {},
   "outputs": [],
   "source": [
    "#### For MLP\n",
    "from diff_gfdn.utils import ms_to_samps\n",
    "\n",
    "def mlp_mems(num_layers: Union[int,ArrayLike], num_neurons: Union[int, ArrayLike], F:int) -> ArrayLike:\n",
    "    return num_layers * (np.power(num_neurons,2) + num_neurons) + F*(num_neurons + 1)\n",
    "\n",
    "def gfdn_mems(fs: float, num_del_lines: int, avg_del_line_len_ms: float, num_groups : int):\n",
    "    matrix_elems = (num_del_lines // num_groups)**2\n",
    "    num_modes = ms_to_samps(avg_del_line_len_ms, fs) * num_del_lines\n",
    "    return num_modes + matrix_elems + 2*num_del_lines + 3*num_groups"
   ]
  },
  {
   "cell_type": "code",
   "execution_count": null,
   "id": "6",
   "metadata": {},
   "outputs": [],
   "source": [
    "num_layers = np.arange(1, 10, 1)\n",
    "num_neurons = np.power(2, np.arange(5, 10))\n",
    "NL, NN = np.meshgrid(num_layers, num_neurons)\n",
    "num_groups = 2\n",
    "B = 8\n",
    "mems_mlp_parallel = B * mlp_mems(NL, NN, 2*num_groups)\n",
    "\n",
    "fig = plt.figure(figsize=(6,6))\n",
    "ax = fig.add_subplot(111, projection='3d')\n",
    "ax.plot_surface(NL, NN, np.log10(mems_mlp_parallel))\n",
    "ax.set_xlabel('Number of hidden layers')\n",
    "ax.set_ylabel('Number of neurons')\n",
    "ax.set_zlabel('Log_10 (FLOPS)')\n",
    "ax.legend(['Sum of parallel GFDNs'])\n",
    "ax.view_init(elev=10, azim=-45)  # Elevation (vertical), Azimuth (horizontal)\n",
    "fig.tight_layout()\n",
    "fig.savefig('figures/compare_mems_mlp.png')\n",
    "plt.show()"
   ]
  },
  {
   "cell_type": "code",
   "execution_count": null,
   "id": "7",
   "metadata": {},
   "outputs": [],
   "source": [
    "fs = 44100\n",
    "num_groups = 2\n",
    "N = np.arange(6, 24, 4)\n",
    "avg_del_line_len_ms = 20\n",
    "\n",
    "num_layers = np.arange(1, 10, 3)\n",
    "num_neurons = np.power(2, np.arange(3, 7))\n",
    "NL, NN = np.meshgrid(num_layers, num_neurons)\n",
    "mems_mlp_parallel = B * mlp_mems(NL, NN, 2*num_groups)\n",
    "mems_mlp_flat = np.ravel(mems_mlp_parallel)\n",
    "NL_flat = np.ravel(NL)\n",
    "NN_flat = np.ravel(NN)\n",
    "\n",
    "plt.figure()\n",
    "for k in range(len(mems_mlp_flat)):\n",
    "    mems_gfdn = B * gfdn_mems(fs, N, avg_del_line_len_ms, num_groups) + mems_mlp_flat[k]\n",
    "    plt.plot(N, mems_gfdn * 4 / 1000, '-x', label=fr'$A = {NN_flat[k]},\\ N_{{\\text{{layers}}}} = {NL_flat[k]}$')\n",
    "    # plt.plot(N, mems_gfdn * 4 / 1000, '-x', label=f'A = {NN_flat[k]}, NL = {NL_flat[k]}')\n",
    "\n",
    "                                                                                   \n",
    "plt.xlabel('Number of delay lines')\n",
    "plt.ylabel('Storage in kB')\n",
    "plt.legend(loc='upper left', bbox_to_anchor=(1.05, 1))\n",
    "plt.tight_layout()\n",
    "plt.savefig('figures/compare_mems_subband_GFDNs.png')\n",
    "plt.show()"
   ]
  }
 ],
 "metadata": {
  "kernelspec": {
   "display_name": "Python 3 (ipykernel)",
   "language": "python",
   "name": "python3"
  },
  "language_info": {
   "codemirror_mode": {
    "name": "ipython",
    "version": 3
   },
   "file_extension": ".py",
   "mimetype": "text/x-python",
   "name": "python",
   "nbconvert_exporter": "python",
   "pygments_lexer": "ipython3",
   "version": "3.12.4"
  }
 },
 "nbformat": 4,
 "nbformat_minor": 5
}
