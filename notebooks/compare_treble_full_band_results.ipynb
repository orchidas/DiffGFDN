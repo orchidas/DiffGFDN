{
 "cells": [
  {
   "cell_type": "code",
   "execution_count": null,
   "id": "0",
   "metadata": {},
   "outputs": [],
   "source": [
    "import soundfile as sf\n",
    "import numpy as np\n",
    "from numpy.typing import ArrayLike\n",
    "from pathlib import Path\n",
    "from scipy.signal import fftconvolve\n",
    "import matplotlib.pyplot as plt\n",
    "import pandas as pd\n",
    "import pyfar as pf\n",
    "import os\n",
    "import torch\n",
    "import DecayFitNet.python.toolbox as decayfitnet\n",
    "\n",
    "os.chdir('..')  # This changes the working directory to DiffGFDN\n",
    "from slope2noise.generate import shaped_wgn\n",
    "from diff_gfdn.dataloader import ThreeRoomDataset, load_dataset\n",
    "from diff_gfdn.config.config import DiffGFDNConfig\n",
    "from diff_gfdn.model import DiffGFDNVarReceiverPos\n",
    "from diff_gfdn.utils import ms_to_samps, db, get_response\n",
    "from diff_gfdn.analysis import get_edc_params\n",
    "from diff_gfdn.plot import plot_edc_error_in_space, plot_edr\n",
    "\n",
    "from src.run_model import load_and_validate_config"
   ]
  },
  {
   "cell_type": "code",
   "execution_count": null,
   "id": "1",
   "metadata": {},
   "outputs": [],
   "source": [
    "config_path = 'data/config/'\n",
    "config_name = 'treble_data_grid_training_full_band_colorless_loss'\n",
    "config_file = config_path + f'{config_name}.yml'\n",
    "config_dict = load_and_validate_config(config_file,\n",
    "                                       DiffGFDNConfig)\n",
    "room_data = ThreeRoomDataset(Path(config_dict.room_dataset_path).resolve(), config_dict)"
   ]
  },
  {
   "cell_type": "markdown",
   "id": "2",
   "metadata": {},
   "source": [
    "### Pick a position"
   ]
  },
  {
   "cell_type": "code",
   "execution_count": null,
   "id": "3",
   "metadata": {},
   "outputs": [],
   "source": [
    "audio_path  = \"audio/\"\n",
    "fig_path = \"figures/\"\n",
    "plot_ir = True\n",
    "use_fixed_pos = True\n",
    "if use_fixed_pos:\n",
    "    pos_to_investigate = [9.3, 6.6, 1.50]  #[6.4, 3.8, 1.5] # [2.0, 6.8, 1.5] \n",
    "else:\n",
    "    rec_idx = np.random.randint(0, high=room_data.num_rec, size=1, dtype=int)\n",
    "    pos_to_investigate = np.round(np.squeeze(room_data.receiver_position[rec_idx,:]), 2)\n",
    "\n",
    "decay_times = np.squeeze(room_data.common_decay_times)\n",
    "band_centre_hz = room_data.band_centre_hz\n",
    "\n",
    "# find amplitudes corresponding to the receiver position\n",
    "rec_pos_idx = np.argwhere(\n",
    "    np.all(np.round(room_data.receiver_position,2) == pos_to_investigate, axis=1))[0]\n",
    "amps_at_pos = np.squeeze(room_data.amplitudes[rec_pos_idx, ...])\n",
    "desired_filename = f'ir_({pos_to_investigate[0]:.2f}, {pos_to_investigate[1]:.2f}, {pos_to_investigate[2]:.2f}).wav'\n",
    "\n",
    "h_true = np.squeeze(room_data.rirs[rec_pos_idx, :int(2*config_dict.sample_rate)])"
   ]
  },
  {
   "cell_type": "markdown",
   "id": "4",
   "metadata": {},
   "source": [
    "### Get the full band DiffGFDN solution at all positions"
   ]
  },
  {
   "cell_type": "code",
   "execution_count": null,
   "id": "5",
   "metadata": {},
   "outputs": [],
   "source": [
    "# add number of groups to the config dictionary\n",
    "config_dict = config_dict.model_copy(update={\"num_groups\": room_data.num_rooms})\n",
    "\n",
    "if config_dict.sample_rate != room_data.sample_rate:\n",
    "    logger.warn(\"Config sample rate does not match data, alterning it\")\n",
    "    config_dict.sample_rate = sample_rate\n",
    "\n",
    "# get the training config\n",
    "trainer_config = config_dict.trainer_config\n",
    "\n",
    "# force the trainer config device to be CPU\n",
    "if trainer_config.device != 'cpu':\n",
    "    trainer_config = trainer_config.model_copy(update={\"device\": 'cpu'})\n",
    "\n",
    "# prepare the training and validation data for DiffGFDN\n",
    "train_dataset, valid_dataset = load_dataset(\n",
    "    room_data, trainer_config.device, train_valid_split_ratio=1.0,\n",
    "    batch_size=trainer_config.batch_size, shuffle=False)\n",
    "\n",
    "# initialise the model\n",
    "model = DiffGFDNVarReceiverPos(room_data.sample_rate, room_data.num_rooms,\n",
    "                 config_dict.delay_length_samps,\n",
    "                 trainer_config.device, \n",
    "                 config_dict.feedback_loop_config,\n",
    "                 config_dict.output_filter_config,\n",
    "                 config_dict.use_absorption_filters,\n",
    "                 common_decay_times=room_data.common_decay_times,\n",
    "                 band_centre_hz=room_data.band_centre_hz,\n",
    "                )\n",
    "\n",
    "# load the trained weights for the particular epoch\n",
    "max_epochs = trainer_config.max_epochs\n",
    "checkpoint_dir = Path(trainer_config.train_dir + 'checkpoints/').resolve()\n",
    "checkpoint = torch.load(f'{checkpoint_dir}/model_e{max_epochs-1}.pt', weights_only=True, map_location=torch.device('cpu'))\n",
    "# Load the trained model state\n",
    "model.load_state_dict(checkpoint)\n",
    "# in eval mode, no gradients are calculated\n",
    "model.eval()\n",
    "all_fullband_pos = []\n",
    "all_fullband_rirs = []\n",
    "\n",
    "for data in train_dataset:\n",
    "    position = data['listener_position']\n",
    "    H, h = get_response(data, model)\n",
    "    \n",
    "    for num_pos in range(position.shape[0]):\n",
    "        filename = f'ir_({position[num_pos,0]:.2f}, {position[num_pos, 1]:.2f}, {position[num_pos, 2]:.2f}).wav'\n",
    "\n",
    "        # collate all RIRs at all positions\n",
    "        all_fullband_pos.append(position[num_pos])\n",
    "        all_fullband_rirs.append(h[num_pos, ...])\n",
    "\n",
    "        if plot_ir and filename == desired_filename:\n",
    "            h_full_gfdn = h[num_pos, ...]"
   ]
  },
  {
   "cell_type": "markdown",
   "id": "6",
   "metadata": {},
   "source": [
    "### Get the subband GFDN solution at all positions"
   ]
  },
  {
   "cell_type": "code",
   "execution_count": null,
   "id": "7",
   "metadata": {},
   "outputs": [],
   "source": [
    "def sum_arrays(series):\n",
    "    \"\"\"Sum an array along first dimension\"\"\"\n",
    "    return np.sum(series, axis=0)\n",
    "\n",
    "subband_file_path = Path('output/treble_data_grid_training_final_rirs_colorless_loss.pkl')\n",
    "synth_subband_rirs = pd.read_pickle(subband_file_path)\n",
    "\n",
    "# group by 'position' and sum the 'time_samples' over each frequency band\n",
    "synth_rirs = synth_subband_rirs.groupby('position')['time_samples'].apply(sum_arrays)\n",
    "synth_rirs_df = synth_rirs.reset_index()\n",
    "synth_rirs_df.columns = ['position', 'filtered_time_samples']\n",
    "all_subband_rirs = np.vstack(synth_rirs_df['filtered_time_samples'])\n",
    "all_subband_pos = np.array(synth_rirs_df['position'].tolist())\n",
    "\n",
    "subband_rec_pos_idx = synth_rirs_df[synth_rirs_df['position'] == tuple(pos_to_investigate)].index[0]\n",
    "data_at_pos = synth_rirs_df.iloc[subband_rec_pos_idx]\n",
    "h_subband_gfdn = data_at_pos['filtered_time_samples']\n",
    "\n",
    "ir_len_samps = min(len(h_subband_gfdn), h_full_gfdn.shape[0], len(h_true))\n",
    "h_true = h_true[:ir_len_samps]\n",
    "h_subband_gfdn = h_subband_gfdn[:ir_len_samps]\n",
    "h_full_gfdn = h_full_gfdn[:ir_len_samps]"
   ]
  },
  {
   "cell_type": "markdown",
   "id": "8",
   "metadata": {},
   "source": [
    "### Get the common slopes solution at all positions"
   ]
  },
  {
   "cell_type": "code",
   "execution_count": null,
   "id": "9",
   "metadata": {},
   "outputs": [],
   "source": [
    "from importlib import reload\n",
    "import slope2noise\n",
    "reload(slope2noise.utils)\n",
    "reload(slope2noise.generate)\n",
    "from slope2noise.generate import shaped_wgn\n",
    "\n",
    "ir_len_samps = len(h_true)\n",
    "\n",
    "# t_vals_expanded = np.repeat(np.array(decay_times.T)[np.newaxis, ...],\n",
    "#                                     room_data.num_rec,\n",
    "#                                     axis=0)\n",
    "# _, ls_est_rirs = shaped_wgn(t_vals_expanded, room_data.amplitudes, room_data.sample_rate, \n",
    "#                             ir_len_samps, band_centre_hz)\n",
    "# h_ls = ls_est_rirs[rec_pos_idx, :]\n",
    "\n",
    "t_vals_ls = np.array(decay_times.T)[np.newaxis, ...]\n",
    "_, h_ls = shaped_wgn(t_vals_ls, room_data.amplitudes[rec_pos_idx, ...], \n",
    "                     room_data.sample_rate, \n",
    "                     ir_len_samps, \n",
    "                     f_bands=band_centre_hz, \n",
    "                     n_vals=np.squeeze(room_data.noise_floor[rec_pos_idx], axis=0),\n",
    "                     use_pyfar_filterbank=True)\n",
    "h_ls = np.squeeze(h_ls)\n",
    "sf.write(Path(f'{audio_path}/common_slopes_full_band/{desired_filename}_pyfar.wav').resolve(), h_ls, room_data.sample_rate)"
   ]
  },
  {
   "cell_type": "markdown",
   "id": "10",
   "metadata": {},
   "source": [
    "### Plot the EDCs at picked position"
   ]
  },
  {
   "cell_type": "code",
   "execution_count": null,
   "id": "11",
   "metadata": {},
   "outputs": [],
   "source": [
    "fs = room_data.sample_rate\n",
    "mixing_time_samp = ms_to_samps(20.0, fs)\n",
    "crop_end_samp = ms_to_samps(5.0, fs)\n",
    "\n",
    "trunc_true_ir = h_true[mixing_time_samp:-crop_end_samp]\n",
    "true_edf = np.flipud(np.cumsum(np.flipud(trunc_true_ir**2), axis=-1))\n",
    "time = np.linspace(0, (len(trunc_true_ir) - 1) / fs,\n",
    "                   len(trunc_true_ir))"
   ]
  },
  {
   "cell_type": "markdown",
   "id": "12",
   "metadata": {},
   "source": [
    "#### Use DecayFitNet to get the EDC fit from the subband GFDN RIRs, and compare it to the true subband RIRs"
   ]
  },
  {
   "cell_type": "code",
   "execution_count": null,
   "id": "13",
   "metadata": {},
   "outputs": [],
   "source": [
    "def plot_edc_in_each_subband(h_sub_true: ArrayLike, h_sub_gfdn: ArrayLike, dfn_edc: ArrayLike, fs: float, freq: int):\n",
    "    mixing_time_samp = ms_to_samps(20.0, fs)\n",
    "    crop_end_samp = ms_to_samps(5.0, fs)\n",
    "    \n",
    "    trunc_true_ir = h_sub_true[mixing_time_samp:-crop_end_samp]\n",
    "    true_subband_edf = np.flipud(np.cumsum(np.flipud(trunc_true_ir**2), axis=-1))\n",
    "    time = np.linspace(0, (len(trunc_true_ir) - 1) / fs,\n",
    "                   len(trunc_true_ir))\n",
    "\n",
    "    fig, ax = plt.subplots(figsize=(4, 3))\n",
    "    ax.plot(time, db(true_subband_edf, is_squared=True), label=f'True EDF, freq = {freq} Hz')\n",
    "    ax.set_title(\n",
    "        f'Truncated EDF at position {pos_to_investigate[0]:.2f}, {pos_to_investigate[1]:.2f}, {pos_to_investigate[2]:.2f} m'\n",
    "    )\n",
    "    \n",
    "    trunc_approx_ir_gfdn = h_sub_gfdn[mixing_time_samp:-crop_end_samp]\n",
    "    synth_edf_subband = np.flipud(np.cumsum(np.flipud(trunc_approx_ir_gfdn**2), axis=-1))\n",
    "    ax.plot(time, db(synth_edf_subband, is_squared=True), label=f'Subband DiffGFDN freq = {freq} Hz')\n",
    "    ax.plot(time, db(dfn_edc, is_squared=True), label=f'Subband DiffGFDN DecayFitNet freq = {freq} Hz')\n",
    "    ax.legend(loc='upper center', bbox_to_anchor=(0, 1.5))\n",
    "    return true_subband_edf, synth_edf_subband\n",
    "\n",
    "\n",
    "# get EDC params for each subband using DecayFitNet\n",
    "freq_bands = room_data.band_centre_hz\n",
    "n_bands = len(freq_bands)\n",
    "t_vals = np.zeros((n_bands, room_data.num_rooms))\n",
    "a_vals = np.zeros_like(t_vals)\n",
    "n_vals = np.zeros(n_bands)\n",
    "synth_edf_subband_dfn = np.zeros((n_bands, len(time)))\n",
    "true_edf_subband = np.zeros((n_bands, len(time)))\n",
    "synth_edf_subband_gfdn = np.zeros_like(true_edf_subband)\n",
    "\n",
    "# prepare the reconstructing filterbank\n",
    "subband_filters, _ = pf.dsp.filter.reconstructing_fractional_octave_bands(\n",
    "    None,\n",
    "    num_fractions=1,\n",
    "    frequency_range=(room_data.band_centre_hz[0], room_data.band_centre_hz[-1]),\n",
    "    sampling_rate=fs,\n",
    ")\n",
    "\n",
    "for freq, idx in zip(freq_bands, range(n_bands)):\n",
    "    \n",
    "    subband_gfdn_rir = synth_subband_rirs.loc[(synth_subband_rirs['frequency'] == freq) \n",
    "                 & (synth_subband_rirs['position'] == tuple(pos_to_investigate)), 'time_samples'].values[0]\n",
    "    \n",
    "    cur_tvals, cur_avals, cur_nvals, cur_norm_vals, _ = get_edc_params(subband_gfdn_rir, room_data.num_rooms, \n",
    "                                                                       int(room_data.sample_rate), f_bands=[freq])\n",
    "    subband_ref_rir = fftconvolve(h_true,\n",
    "                                  subband_filters.coefficients[idx, :],\n",
    "                                  mode='same')\n",
    "\n",
    "    t_vals[idx, :] = cur_tvals\n",
    "    a_vals[idx, :] = cur_avals * np.squeeze(cur_norm_vals)\n",
    "    n_vals[idx] = cur_nvals * np.squeeze(cur_norm_vals)\n",
    "    synth_edf_subband_dfn[idx, :] = np.sum(decayfitnet.core.decay_model(t_vals[idx, :],\n",
    "                                            a_vals[idx, :],\n",
    "                                            n_vals[idx],\n",
    "                                            time_axis=time,\n",
    "                                            compensate_uli=True,\n",
    "                                            backend='np'), axis=0)\n",
    "    \n",
    "    true_edf_subband[idx, :], synth_edf_subband_gfdn[idx, :] = plot_edc_in_each_subband(subband_ref_rir[:ir_len_samps], \n",
    "                                                        subband_gfdn_rir[:ir_len_samps], \n",
    "                                                        synth_edf_subband_dfn[idx, :], fs, freq)"
   ]
  },
  {
   "cell_type": "markdown",
   "id": "14",
   "metadata": {},
   "source": [
    "#### Compare the broadband RIR's EDC"
   ]
  },
  {
   "cell_type": "code",
   "execution_count": null,
   "id": "15",
   "metadata": {},
   "outputs": [],
   "source": [
    "fig, ax = plt.subplots(figsize=(8, 6))\n",
    "ax.plot(time, db(true_edf, is_squared=True), label='True EDF')\n",
    "ax.plot(time, db(np.sum(true_edf_subband, axis=0), is_squared=True), label='True EDF subband summed')\n",
    "ax.set_title(\n",
    "    f'Truncated EDF at position {pos_to_investigate[0]:.2f}, {pos_to_investigate[1]:.2f}, {pos_to_investigate[2]:.2f} m'\n",
    ")\n",
    "\n",
    "trunc_approx_ir_subband_gfdn = h_subband_gfdn[mixing_time_samp:-crop_end_samp]\n",
    "synth_edf_subband = np.flipud(np.cumsum(np.flipud(trunc_approx_ir_subband_gfdn**2), axis=-1))\n",
    "ax.plot(time, db(synth_edf_subband, is_squared=True), label='Subband DiffGFDN')\n",
    "ax.plot(time, db(np.sum(synth_edf_subband_gfdn, axis=0), is_squared=True), label='Subband DiffGFDN EDF summed')\n",
    "\n",
    "trunc_approx_ir_fullband_gfdn = h_full_gfdn[mixing_time_samp:-crop_end_samp]\n",
    "synth_edf_fullband = np.flipud(np.cumsum(np.flipud(trunc_approx_ir_fullband_gfdn**2), axis=-1))\n",
    "ax.plot(time, db(synth_edf_fullband, is_squared=True), label='Full band DiffGFDN')\n",
    "\n",
    "trunc_approx_ir_common_slopes = h_ls[mixing_time_samp:-crop_end_samp]\n",
    "synth_edf_common_slopes = np.flipud(np.cumsum(np.flipud(trunc_approx_ir_common_slopes**2), axis=-1))\n",
    "ax.plot(time, db(synth_edf_common_slopes, is_squared=True), label='Common slopes model')\n",
    "ax.legend()\n",
    "fig.savefig(Path(f'{fig_path}/compare_edf_{pos_to_investigate}_treble_data_all_models.png').resolve())"
   ]
  },
  {
   "cell_type": "markdown",
   "id": "16",
   "metadata": {},
   "source": [
    "### Plot EDR at picked position"
   ]
  },
  {
   "cell_type": "code",
   "execution_count": null,
   "id": "17",
   "metadata": {},
   "outputs": [],
   "source": [
    "import diff_gfdn\n",
    "reload(diff_gfdn.plot)\n",
    "from diff_gfdn.plot import plot_spectrogram, plot_edr\n",
    "plot_edr(torch.tensor(h_true), model.sample_rate, title=f'True EDR', log_freq_axis=True,\n",
    "                             save_path=f'{fig_path}/true_edr_treble_fullband.png')\n",
    "plot_edr(torch.tensor(h_subband_gfdn), model.sample_rate, title=f'Estimated EDR, Subband GFDN', log_freq_axis=True,\n",
    "                             save_path=f'{fig_path}/est_edr_treble_subband_gfdn.png')\n",
    "plot_edr(torch.tensor(h_full_gfdn), model.sample_rate, title=f'Estimated EDR, Fullband GFDN', log_freq_axis=True,\n",
    "                             save_path=f'{fig_path}/est_edr_treble_fullband_gfdn.png')\n",
    "plot_edr(torch.tensor(h_ls), model.sample_rate, title=f'Estimated EDR, Common slopes', log_freq_axis=True,\n",
    "                             save_path=f'{fig_path}/est_edr_treble_common_slopes.png')"
   ]
  },
  {
   "cell_type": "markdown",
   "id": "18",
   "metadata": {},
   "source": [
    "### Plot the mean EDC error"
   ]
  },
  {
   "cell_type": "code",
   "execution_count": null,
   "id": "19",
   "metadata": {},
   "outputs": [],
   "source": [
    "plot_edc_error_in_space(room_data, all_fullband_rirs, all_fullband_pos, freq_to_plot=None, \n",
    "                        save_path=f'{fig_path}/avg_edc_error_treble_fullband_training')"
   ]
  },
  {
   "cell_type": "code",
   "execution_count": null,
   "id": "20",
   "metadata": {},
   "outputs": [],
   "source": [
    "plot_edc_error_in_space(room_data, all_subband_rirs, all_subband_pos, freq_to_plot=None, \n",
    "                        save_path=f'{fig_path}/avg_edc_error_treble_subband_training')"
   ]
  },
  {
   "cell_type": "code",
   "execution_count": null,
   "id": "21",
   "metadata": {},
   "outputs": [],
   "source": [
    "plot_edc_error_in_space(room_data, ls_est_rirs, room_data.receiver_position, freq_to_plot=None, \n",
    "                        save_path=f'{fig_path}/avg_edc_error_treble_common_slopes_model', pos_sorted=True)"
   ]
  }
 ],
 "metadata": {
  "kernelspec": {
   "display_name": "Python 3 (ipykernel)",
   "language": "python",
   "name": "python3"
  },
  "language_info": {
   "codemirror_mode": {
    "name": "ipython",
    "version": 3
   },
   "file_extension": ".py",
   "mimetype": "text/x-python",
   "name": "python",
   "nbconvert_exporter": "python",
   "pygments_lexer": "ipython3",
   "version": "3.12.4"
  }
 },
 "nbformat": 4,
 "nbformat_minor": 5
}
