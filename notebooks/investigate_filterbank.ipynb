{
 "cells": [
  {
   "cell_type": "markdown",
   "id": "0",
   "metadata": {},
   "source": [
    "Synthesise a signal as a some of decaying sinusoids to cover the whole frequency range. The filter it with the subband filters — that will give you signals which the network is trying to learn. Then add to these subband components white noise, and synthesise the input signal using the three approaches above:\n",
    "\n",
    "- Just add the noisy subband components\n",
    "- Add the noisy subband components filtered by the used subband filters\n",
    "- Add the noisy subband component filtered by the time reversed versions of the subband fiters"
   ]
  },
  {
   "cell_type": "code",
   "execution_count": null,
   "id": "1",
   "metadata": {},
   "outputs": [],
   "source": [
    "from dataclasses import dataclass\n",
    "import numpy as np\n",
    "import pyfar as pf\n",
    "import soundfile as sf\n",
    "from numpy.typing import ArrayLike, NDArray\n",
    "from pathlib import Path\n",
    "import matplotlib.pyplot as plt\n",
    "from scipy.fft import rfft, rfftfreq, irfft\n",
    "from scipy.signal import fftconvolve\n",
    "from typing import List, Tuple, Optional\n",
    "import IPython\n",
    "import os\n",
    "os.chdir('..')  # This changes the working directory to DiffGFDN\n",
    "\n",
    "\n",
    "from slope2noise.utils import octave_filtering, decay_kernel\n",
    "from diff_gfdn.utils import ms_to_samps, db, db2lin, get_time_reversed_fir_filterbank\n",
    "\n",
    "audio_path = Path('audio/filterbank_test/').resolve()\n",
    "fig_path = Path('figures/test_plots/').resolve()"
   ]
  },
  {
   "cell_type": "code",
   "execution_count": null,
   "id": "2",
   "metadata": {},
   "outputs": [],
   "source": [
    "def synthesise_modes(fs: float, \n",
    "                     freq_bands: List, \n",
    "                     num_modes_per_band: List, \n",
    "                     per_band_decay_ms: List, \n",
    "                     sig_len_ms: float = 2000,\n",
    "                     plot: bool = True):\n",
    "    \"\"\"Synthesise a sum of modes that are equally distributed in freq_bands\"\"\"\n",
    "    sig_len_samp = ms_to_samps(sig_len_ms, fs)\n",
    "    num_bands = len(freq_bands)\n",
    "    time = np.arange(0, sig_len_samp / fs, 1.0 / fs)\n",
    "    modes = np.zeros((num_bands, sig_len_samp))\n",
    "    # Define the range for radius and angle\n",
    "    radius_min, radius_max = db2lin(-100), db2lin(0)  # Range for magnitude (r)\n",
    "    angle_min, angle_max = 0, np.pi    # Range for angle (theta) in radians\n",
    "    all_modes= []\n",
    "\n",
    "    if plot:\n",
    "        fig, ax = plt.subplots(2, 1, figsize=(6, 4))\n",
    "\n",
    "    for b_idx in range(num_bands):\n",
    "        mode_freqs = np.random.uniform(low=freq_bands[b_idx] / np.sqrt(2), \n",
    "                                       high = freq_bands[b_idx] * np.sqrt(2), \n",
    "                                       size = num_modes_per_band[b_idx])\n",
    "\n",
    "        mode_decays = 2 * np.ones((num_modes_per_band[b_idx],1)) * per_band_decay_ms[b_idx] * 1e-3\n",
    "        mode_decay_envelope = decay_kernel(mode_decays, time, fs, normalize_envelope=True).squeeze()\n",
    "\n",
    "        # Generate random radius and angle values\n",
    "        radii = np.random.uniform(radius_min, radius_max, num_modes_per_band[b_idx])\n",
    "        angles = np.random.uniform(angle_min, angle_max, num_modes_per_band[b_idx])\n",
    "\n",
    "        mode_amps = np.real(radii * np.exp(1j * angles))\n",
    "        modes[b_idx, :] = np.sum(mode_amps[:, None] * mode_decay_envelope * np.cos(2*np.pi*np.outer(mode_freqs, time)), axis=0)\n",
    "\n",
    "        if plot:\n",
    "            ax[0].plot(time, db(modes[b_idx, :]), label=f'{freq_bands[b_idx]} Hz')\n",
    "\n",
    "\n",
    "    if plot:\n",
    "        ax[1].plot(time, np.sum(modes, axis=0), label='Overall response')\n",
    "        ax[0].set_xlabel('Time (s)')\n",
    "        ax[0].set_ylabel('Amplitude (dB)')\n",
    "        ax[0].legend()\n",
    "        fig.savefig(f'{fig_path}/og_signal.png')\n",
    "\n",
    "    return time, np.sum(modes, axis=0)\n",
    "\n",
    "\n",
    "def get_fft_size(ir_len_samps: int):\n",
    "    return 2**np.ceil(np.log2(ir_len_samps)).astype(np.int32)\n",
    "    \n",
    "def get_multichannel_noise(input_signal: NDArray, noise_rms_db: float):\n",
    "    \"\"\"Add Gaussian noise of desired RMS value to input signal\"\"\"\n",
    "    sig_len_samp, num_bands = input_signal.shape\n",
    "    noise = np.random.randn(sig_len_samp, num_bands)  # Generate standard Gaussian noise (mean=0, std=1)\n",
    "    des_rms = db2lin(noise_rms_db)\n",
    "    current_rms = np.sqrt(np.mean(noise**2, axis=0))  # Compute current RMS\n",
    "    scaled_noise = noise * (des_rms / current_rms)  # Scale to desired RMS\n",
    "    return scaled_noise\n",
    "    \n",
    "def plot_mag_response(signals: NDArray, fs: float, labels: List, ls: List, save_path:Optional[str]=None):\n",
    "    ir_len, num_chans = signals.shape\n",
    "    fft_size = get_fft_size(ir_len)\n",
    "\n",
    "    signals_freq_response = rfft(signals, n=fft_size, axis=0)\n",
    "    freq_axis = rfftfreq(fft_size, d = 1.0/fs)\n",
    "\n",
    "    plt.figure(figsize=(8, 6))\n",
    "    offset = 50\n",
    "    \n",
    "    for k in range(num_chans):\n",
    "        plt.semilogx(freq_axis, db(signals_freq_response[:, k]) + k*offset, linestyle=ls[k], label=labels[k], alpha=0.6)\n",
    "    plt.legend()\n",
    "    plt.xlabel('Frequency (Hz)')\n",
    "    plt.ylabel('Magnitude (dB)')\n",
    "    plt.xlim([20, fs/2])\n",
    "    if save_path is not None:\n",
    "        plt.savefig(save_path)\n",
    "    plt.show()\n",
    "\n",
    "\n",
    "def filter_multiband_signal(signal: NDArray, subband_filters: NDArray) -> NDArray:\n",
    "    \"\"\"Filter a signal with size Nxnum_bands with subband filters of size num_bands x num_coeffs\"\"\"\n",
    "    assert signal.shape[-1] == subband_filters.shape[0]\n",
    "    num_bands = subband_filters.shape[0]\n",
    "    output_signal = np.zeros((signal.shape[0], num_bands))\n",
    "    for b_idx in range(num_bands):\n",
    "        output_signal[:,b_idx] = fftconvolve(signal[:, b_idx], subband_filters[b_idx, :], mode='same')\n",
    "    return output_signal\n"
   ]
  },
  {
   "cell_type": "code",
   "execution_count": null,
   "id": "3",
   "metadata": {},
   "outputs": [],
   "source": [
    "fs = 32000\n",
    "freq_bands = [63, 125, 250, 500, 1000, 2000, 4000, 8000]\n",
    "per_band_decay_ms = [1000, 800, 750, 500, 400, 300, 100, 50]\n",
    "# Define the range of number of modes per band\n",
    "min_num_modes, max_num_modes = 10, 2000\n",
    "# Generate N log-spaced values and round to the nearest integer\n",
    "num_modes_per_band = np.round(np.logspace(np.log10(min_num_modes), np.log10(max_num_modes), len(freq_bands))).astype(int)\n",
    "time_axis, modal_output = synthesise_modes(fs, freq_bands, num_modes_per_band, per_band_decay_ms)\n",
    "ir_len = len(time_axis)\n",
    "\n",
    "# save the audio                                \n",
    "save_path = f'{audio_path}/clean_signal.wav'\n",
    "sf.write(save_path, modal_output, fs) \n",
    "IPython.display.Audio(save_path)\n"
   ]
  },
  {
   "cell_type": "markdown",
   "id": "4",
   "metadata": {},
   "source": [
    "### Filter the modal signal with FIR filterbank"
   ]
  },
  {
   "cell_type": "code",
   "execution_count": null,
   "id": "5",
   "metadata": {},
   "outputs": [],
   "source": [
    "filtered_modes, subband_filters = octave_filtering(modal_output, fs, freq_bands, get_filter_ir=True, use_amp_preserving_filterbank = True)\n",
    "modal_recons = np.sum(filtered_modes, axis=-1)\n",
    "num_bands = filtered_modes.shape[-1]\n",
    "twice_filtered_modes = filter_multiband_signal(filtered_modes, subband_filters)\n",
    "twice_filtered_modal_recons = np.sum(twice_filtered_modes, axis=-1)"
   ]
  },
  {
   "cell_type": "markdown",
   "id": "6",
   "metadata": {},
   "source": [
    "#### Filter each band with the time reversed filters and sum them to see if the output matches the input"
   ]
  },
  {
   "cell_type": "code",
   "execution_count": null,
   "id": "7",
   "metadata": {},
   "outputs": [],
   "source": [
    "fft_size = subband_filters.shape[-1]\n",
    "freq_bins_rad = rfftfreq(fft_size) * 2 * np.pi\n",
    "time_rev_filter_subband_resp = get_time_reversed_fir_filterbank(subband_filters, freq_bins_rad, fft_size, plot=True, freq_labels=freq_bands)\n",
    "time_rev_subband_filters = irfft(time_rev_filter_subband_resp, n=fft_size, axis=-1)\n",
    "\n",
    "time_rev_twice_filtered_modes = filter_multiband_signal(filtered_modes, time_rev_subband_filters)\n",
    "time_rev_modal_recons = np.sum(time_rev_twice_filtered_modes, axis=-1)\n",
    "# assert np.allclose(modal_output, time_rev_modal_recons, atol=1e-6)\n",
    "\n",
    "all_signals = np.column_stack((modal_output, modal_recons, twice_filtered_modal_recons, time_rev_modal_recons))\n",
    "plt.figure()\n",
    "plt.figure(figsize=(8, 6))\n",
    "labels = ['OG', 'FIR recons.', 'Twice filtered', 'Twice filtered with time reversed version']\n",
    "ls = ['-','--','-.', ':']\n",
    "offset = 0\n",
    "for k in range(all_signals.shape[-1]):\n",
    "    plt.plot(time_axis, db(all_signals[:, k]) + k*offset, linestyle=ls[k], label=labels[k], alpha=0.6)\n",
    "plt.legend(bbox_to_anchor=(1.1, 1.1))\n",
    "plt.xlabel('Time(s)')\n",
    "plt.ylabel('Amplitude (dB)')\n",
    "plt.show()\n"
   ]
  },
  {
   "cell_type": "code",
   "execution_count": null,
   "id": "8",
   "metadata": {},
   "outputs": [],
   "source": [
    "print(db(np.abs(modal_output[0] - time_rev_modal_recons[0])))"
   ]
  },
  {
   "cell_type": "markdown",
   "id": "9",
   "metadata": {},
   "source": [
    "### Add noise to the filtered signals"
   ]
  },
  {
   "cell_type": "code",
   "execution_count": null,
   "id": "10",
   "metadata": {},
   "outputs": [],
   "source": [
    "scaled_noise = get_multichannel_noise(filtered_modes, -60)\n",
    "noisy_filtered_modes = filtered_modes + scaled_noise\n",
    "modal_recons_w_noise = np.sum(noisy_filtered_modes, axis=-1)"
   ]
  },
  {
   "cell_type": "markdown",
   "id": "11",
   "metadata": {},
   "source": [
    "### Pass noisy signal through the filterbank"
   ]
  },
  {
   "cell_type": "code",
   "execution_count": null,
   "id": "12",
   "metadata": {},
   "outputs": [],
   "source": [
    "filtered_modes_w_noise = filter_multiband_signal(noisy_filtered_modes, subband_filters)\n",
    "\n",
    "filtered_modal_recons_w_noise = np.sum(filtered_modes_w_noise, axis=-1)"
   ]
  },
  {
   "cell_type": "markdown",
   "id": "13",
   "metadata": {},
   "source": [
    "### Pass noisy signal through time-reversed filterbank"
   ]
  },
  {
   "cell_type": "code",
   "execution_count": null,
   "id": "14",
   "metadata": {},
   "outputs": [],
   "source": [
    "time_rev_filtered_modes_w_noise = filter_multiband_signal(noisy_filtered_modes, time_rev_subband_filters)\n",
    "\n",
    "time_rev_filtered_modal_recons_w_noise = np.sum(time_rev_filtered_modes_w_noise, axis=-1)"
   ]
  },
  {
   "cell_type": "markdown",
   "id": "15",
   "metadata": {},
   "source": [
    "### Time and frequency domain plots"
   ]
  },
  {
   "cell_type": "code",
   "execution_count": null,
   "id": "16",
   "metadata": {},
   "outputs": [],
   "source": [
    "all_signals = np.column_stack((modal_recons, modal_recons_w_noise, filtered_modal_recons_w_noise, time_rev_filtered_modal_recons_w_noise))\n",
    "\n",
    "plt.figure()\n",
    "plt.figure(figsize=(8, 6))\n",
    "labels = ['FIR recons.', 'FIR recons. + noise', 'FIR recons + noise + filtered', 'FIR recons + noise + time rev filtered']\n",
    "ls = ['-','--','-.', ':']\n",
    "offset = 80\n",
    "for k in range(all_signals.shape[-1]):\n",
    "    plt.plot(time_axis, db(all_signals[:, k]) + k*offset, linestyle=ls[k], label=labels[k], alpha=0.6)\n",
    "plt.legend(bbox_to_anchor=(1.1, 1.1))\n",
    "plt.xlabel('Time(s)')\n",
    "plt.ylabel('Amplitude (dB)')\n",
    "plt.savefig(f'{fig_path}/sum_cosines_impulse_response.png')\n",
    "plt.show()\n",
    "\n",
    "plot_mag_response(all_signals, fs, labels, ls, \n",
    "                  save_path=f'{fig_path}/sum_cosines_freq_response.png')"
   ]
  },
  {
   "cell_type": "markdown",
   "id": "17",
   "metadata": {},
   "source": [
    "### Save the IRs"
   ]
  },
  {
   "cell_type": "code",
   "execution_count": null,
   "id": "18",
   "metadata": {},
   "outputs": [],
   "source": [
    "sf.write(f'{audio_path}/recons.wav', modal_recons, fs)\n",
    "sf.write(f'{audio_path}/noisy_recons.wav', filtered_modal_recons_w_noise, fs)\n",
    "sf.write(f'{audio_path}/time_rev_noisy_recons.wav', time_rev_filtered_modal_recons_w_noise, fs)"
   ]
  }
 ],
 "metadata": {
  "kernelspec": {
   "display_name": "Python 3 (ipykernel)",
   "language": "python",
   "name": "python3"
  },
  "language_info": {
   "codemirror_mode": {
    "name": "ipython",
    "version": 3
   },
   "file_extension": ".py",
   "mimetype": "text/x-python",
   "name": "python",
   "nbconvert_exporter": "python",
   "pygments_lexer": "ipython3",
   "version": "3.12.4"
  }
 },
 "nbformat": 4,
 "nbformat_minor": 5
}
