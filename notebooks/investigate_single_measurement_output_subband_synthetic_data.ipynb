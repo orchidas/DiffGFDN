{
 "cells": [
  {
   "cell_type": "code",
   "execution_count": null,
   "id": "0",
   "metadata": {},
   "outputs": [],
   "source": [
    "import numpy as np\n",
    "import torch\n",
    "import re\n",
    "import os\n",
    "from pathlib import Path\n",
    "import matplotlib.pyplot as plt\n",
    "from scipy.io import loadmat\n",
    "import soundfile as sf\n",
    "from torch import nn\n",
    "from scipy.fft import rfft, rfftfreq\n",
    "from numpy.typing import ArrayLike, NDArray\n",
    "from typing import Optional, List\n",
    "from IPython import display\n",
    "from loguru import logger\n",
    "from copy import deepcopy\n",
    "from scipy.signal import sosfreqz, sos2zpk, tf2zpk\n",
    "\n",
    "from diff_gfdn.dataloader import load_dataset, RIRData\n",
    "from diff_gfdn.config.config import DiffGFDNConfig, CouplingMatrixType\n",
    "from diff_gfdn.solver import convert_common_slopes_rir_to_room_dataset\n",
    "from diff_gfdn.model import DiffGFDNSinglePos\n",
    "from diff_gfdn.utils import is_unitary, db2lin, db, ms_to_samps, get_response\n",
    "from diff_gfdn.absorption_filters import decay_times_to_gain_filters_geq\n",
    "from diff_gfdn.filters.geq import eq_freqs\n",
    "from diff_gfdn.plot import plot_edr, animate_coupled_feedback_matrix, plot_subband_edc, plot_subband_amplitudes, plot_learned_svf_response\n",
    "from diff_gfdn.analysis import get_decay_fit_net_params, get_edc_params, get_decay_times_for_rirs\n",
    "from diff_gfdn.gain_filters import SOSFilter\n",
    "from slope2noise.slope2noise.utils import octave_filtering, calculate_amplitudes_least_squares\n",
    "from run_model import load_and_validate_config\n",
    "\n",
    "os.chdir('..')  # This changes the working directory to DiffGFDN"
   ]
  },
  {
   "cell_type": "code",
   "execution_count": null,
   "id": "1",
   "metadata": {},
   "outputs": [],
   "source": [
    "config_path = 'data/config/'\n",
    "fig_path = 'figures/'\n",
    "config_name = 'single_rir_fit_subband_two_stage_decay_scalar_coupling.yml'\n",
    "config_file = config_path + config_name\n",
    "config_dict = load_and_validate_config(config_file,\n",
    "                                       DiffGFDNConfig)"
   ]
  },
  {
   "cell_type": "code",
   "execution_count": null,
   "id": "2",
   "metadata": {},
   "outputs": [],
   "source": [
    "room_data = convert_common_slopes_rir_to_room_dataset(config_dict.room_dataset_path, \n",
    "                                                      num_freq_bins=config_dict.trainer_config.num_freq_bins,\n",
    "                                                      )\n",
    "\n",
    "config_dict = config_dict.copy(update={\"num_groups\": room_data.num_rooms})\n",
    "\n",
    "trainer_config = config_dict.trainer_config\n",
    "# prepare the training and validation data for DiffGFDN\n",
    "if trainer_config.batch_size != room_data.num_freq_bins:\n",
    "    trainer_config = trainer_config.copy(\n",
    "        update={\"batch_size\": room_data.num_freq_bins})\n",
    "\n",
    "# initialise the model\n",
    "model = DiffGFDNSinglePos(config_dict.sample_rate,\n",
    "                 config_dict.num_groups,\n",
    "                 config_dict.delay_length_samps,\n",
    "                 trainer_config.device,\n",
    "                 config_dict.feedback_loop_config,\n",
    "                 config_dict.output_filter_config,\n",
    "                 use_absorption_filters=True,\n",
    "                 common_decay_times=room_data.common_decay_times,\n",
    "                 band_centre_hz=room_data.band_centre_hz,\n",
    "                 )"
   ]
  },
  {
   "cell_type": "markdown",
   "id": "3",
   "metadata": {},
   "source": [
    "### Plot the T60 of the delay line filters"
   ]
  },
  {
   "cell_type": "code",
   "execution_count": null,
   "id": "4",
   "metadata": {},
   "outputs": [],
   "source": [
    "delays = config_dict.delay_length_samps\n",
    "num_del_per_group = int(config_dict.num_delay_lines / config_dict.num_groups)\n",
    "delays_by_group = [delays[i:i+num_del_per_group] for i in range(0, config_dict.num_delay_lines, num_del_per_group)]\n",
    "common_decay_times = room_data.common_decay_times\n",
    "band_centre_hz = room_data.band_centre_hz\n",
    "gain_per_sample = [decay_times_to_gain_filters_geq(band_centre_hz,\n",
    "                                              common_decay_times[:, i],\n",
    "                                              delays_by_group[i],\n",
    "                                              config_dict.sample_rate,\n",
    "                                              plot_response=True) for i in range(config_dict.num_groups)]\n",
    "\n",
    "fig2, ax2 = plt.subplots(subplot_kw={'projection': 'polar'})\n",
    "for n in range(config_dict.num_groups):\n",
    "    # also plot the poles and zeros\n",
    "    all_zeros = []\n",
    "    all_poles = []\n",
    "    for k in range(num_del_per_group):\n",
    "        if gain_per_sample[n].ndim == 4:\n",
    "            cur_filt = gain_per_sample[n][:, k, ...].detach().numpy()\n",
    "            sos_coeffs = np.concatenate((cur_filt[..., 0], cur_filt[...,1]), axis=-1)\n",
    "            for i in range(sos_coeffs.shape[0]):\n",
    "                sos_coeffs[i, :] /= sos_coeffs[i, 3]\n",
    "            zeros, poles, gains = sos2zpk(sos_coeffs)\n",
    "        else:\n",
    "            zeros, poles, gain = tf2zpk(gain_per_sample[n][k, :, 0], gain_per_sample[n][k, :, 1])\n",
    "        all_zeros.append(zeros)\n",
    "        all_poles.append(poles)\n",
    "        \n",
    "    ax2.plot(np.angle(all_poles), np.abs(all_poles), 'x', label=f'Group {n}')    \n",
    "\n",
    "ax2.set_rmax(1.1)\n",
    "ax2.set_rticks([0.25, 0.5, 0.75, 1,])  # Less radial ticks\n",
    "ax2.set_rlabel_position(-22.5)  # Move radial labels away from plotted line\n",
    "ax2.grid(True)"
   ]
  },
  {
   "cell_type": "markdown",
   "id": "5",
   "metadata": {},
   "source": [
    "### Plot output data and compare RIR"
   ]
  },
  {
   "cell_type": "code",
   "execution_count": null,
   "id": "6",
   "metadata": {},
   "outputs": [],
   "source": [
    "true_ir, fs = sf.read(Path(config_dict.ir_path).resolve())\n",
    "match = re.search(r'ir_\\([^)]+\\)', config_dict.ir_path)\n",
    "dir_name = Path(trainer_config.ir_dir).parts[-1]\n",
    "ir_name = match.group()\n",
    "approx_ir_path = f'{trainer_config.ir_dir}/approx_{ir_name}.wav'\n",
    "final_approx_ir, fs = sf.read(Path(approx_ir_path).resolve())\n",
    "\n",
    "plt.plot(np.stack((true_ir, final_approx_ir[:len(true_ir), 0]), axis=-1))\n",
    "plt.xlim([0, int(1.5 * config_dict.sample_rate)])\n",
    "plt.savefig(f'{fig_path}/compare_{dir_name}_{ir_name}.png')\n",
    "plt.show()\n",
    "\n",
    "# find receiver position from string\n",
    "match = re.search(r'ir_\\(([^,]+), ([^,]+), ([^,]+)\\)', ir_name)\n",
    "# Convert the extracted values to floats\n",
    "x, y, z = map(float, match.groups())\n",
    "rec_pos = np.array([x, y, z])\n",
    "\n",
    "# find amplitudes corresponding to the receiver position\n",
    "rec_pos_idx = np.argwhere(\n",
    "    np.all(np.round(room_data.receiver_position,2) == rec_pos, axis=1))[0]\n",
    "amplitudes = np.squeeze(room_data.amplitudes[rec_pos_idx, :]).T\n",
    "if room_data.num_rooms == 1:\n",
    "    amplitudes = amplitudes[:, np.newaxis]\n",
    "\n",
    "\n",
    "# plot EDR\n",
    "plot_edr(torch.tensor(true_ir), config_dict.sample_rate, \n",
    "         title=f'True RIR EDR', save_path=f'{fig_path}/{dir_name}_true_edr_{ir_name}.png')\n",
    "plot_edr(torch.tensor(final_approx_ir[:, 0]), config_dict.sample_rate, \n",
    "         title=f'Estimated RIR EDR', save_path=f'{fig_path}/{dir_name}_approx_edr_{ir_name}.png')\n"
   ]
  },
  {
   "cell_type": "markdown",
   "id": "7",
   "metadata": {},
   "source": [
    "### Plot EDF and estimated amplitudes for each epoch"
   ]
  },
  {
   "cell_type": "code",
   "execution_count": null,
   "id": "8",
   "metadata": {},
   "outputs": [],
   "source": [
    "# read the model parameters per epoch\n",
    "checkpoint_dir = Path(trainer_config.train_dir + 'checkpoints/').resolve()\n",
    "\n",
    "# create RIRDataset\n",
    "rir_data = RIRData(config_dict.ir_path,\n",
    "                   common_decay_times=room_data.common_decay_times,\n",
    "                   band_centre_hz=room_data.band_centre_hz,\n",
    "                   amplitudes=amplitudes,\n",
    "                   nfft=config_dict.trainer_config.num_freq_bins,\n",
    "                  )\n",
    "\n",
    "# prepare the training and validation data for DiffGFDN\n",
    "train_dataset = load_dataset(\n",
    "    rir_data, trainer_config.device, train_valid_split_ratio=1.0,\n",
    "    batch_size=trainer_config.batch_size, shuffle=False)\n",
    "\n",
    "\n",
    "mixing_time_samp = ms_to_samps(20.0, fs)\n",
    "crop_end_samp = ms_to_samps(5.0, fs)\n",
    "trunc_true_ir = true_ir[mixing_time_samp:-crop_end_samp]\n",
    "num_bands = len(band_centre_hz)\n",
    "filtered_true_ir = octave_filtering(trunc_true_ir, fs, band_centre_hz)\n",
    "# get decay fit net params\n",
    "og_est_t60, og_est_amp, _, _, og_fitted_edc = get_edc_params(trunc_true_ir, \n",
    "                                                             config_dict.num_groups, \n",
    "                                                             config_dict.sample_rate, \n",
    "                                                             f_bands=room_data.band_centre_hz)"
   ]
  },
  {
   "cell_type": "code",
   "execution_count": null,
   "id": "9",
   "metadata": {},
   "outputs": [],
   "source": [
    "fig, ax = plt.subplots(num_bands, 1, figsize=(6, 12))\n",
    "for k in range(num_bands):\n",
    "    \n",
    "    true_edf = np.flipud(np.cumsum(np.flipud(filtered_true_ir[:, k]**2), axis=-1))\n",
    "    time = np.linspace(0, (len(trunc_true_ir) - 1) / fs,\n",
    "                           len(trunc_true_ir))\n",
    "    \n",
    "    ax[k].plot(time, db(true_edf, is_squared=True), label='True EDF')\n",
    "    ax[k].plot(time[:og_fitted_edc.shape[-1]], db(og_fitted_edc[k, :], is_squared=True), label='DecayFitNet EDF')\n",
    "    ax[k].plot(np.zeros(room_data.num_rooms),  db(amplitudes[k, :], is_squared=True), 'kx', label='Original amplitudes')\n",
    "    ax[k].plot(np.zeros(room_data.num_rooms),  db(og_est_amp[k, :] , is_squared=True), 'ko', label='Fitted amplitudes')\n",
    "    ax[k].set_title(f'{band_centre_hz[k]:.0f} Hz')\n",
    "\n",
    "fig.subplots_adjust(hspace=0.7)\n",
    "ax[-1].legend()"
   ]
  },
  {
   "cell_type": "markdown",
   "id": "10",
   "metadata": {},
   "source": [
    "### Get parameters as a function of epoch number"
   ]
  },
  {
   "cell_type": "code",
   "execution_count": null,
   "id": "11",
   "metadata": {},
   "outputs": [],
   "source": [
    "max_epochs = trainer_config.max_epochs\n",
    "est_t60 = np.zeros((config_dict.num_groups, max_epochs))\n",
    "est_amp = np.zeros_like(est_t60)\n",
    "coupled_feedback_matrix = []\n",
    "coupling_matrix = []\n",
    "input_gains = []\n",
    "output_gains = []\n",
    "output_biquad_coeffs = []\n",
    "svf_params = []\n",
    "absorption_filters = []\n",
    "h_approx_list = []\n",
    "\n",
    "for epoch in range(max_epochs):\n",
    "    # load the trained weights for the particular epoch\n",
    "    try:\n",
    "        checkpoint = torch.load(f'{checkpoint_dir}/model_e{epoch}.pt', weights_only=True, map_location=torch.device('cpu'))\n",
    "    except:\n",
    "        max_epochs = epoch - 1\n",
    "        break\n",
    "    \n",
    "    # Load the trained model state\n",
    "    model.load_state_dict(checkpoint)\n",
    "    # in eval mode, no gradients are calculated\n",
    "    model.eval()\n",
    "\n",
    "    with torch.no_grad():\n",
    "        # update estimated parameters\n",
    "        param_dict = model.get_param_dict()\n",
    "        input_gains.append(deepcopy(param_dict['input_gains']))\n",
    "        output_gains.append(deepcopy(param_dict['output_gains']))\n",
    "        \n",
    "        if 'coupling_matrix' in param_dict.keys():\n",
    "            coupling_matrix.append(deepcopy(param_dict['coupling_matrix']))\n",
    "            \n",
    "        if 'coupled_feedback_matrix' in param_dict.keys():\n",
    "            coupled_feedback_matrix.append(deepcopy(param_dict['coupled_feedback_matrix']))\n",
    "        \n",
    "        if 'output_biquad_coeffs' in param_dict.keys():\n",
    "            output_biquad_coeffs.append(deepcopy(param_dict['output_biquad_coeffs']))\n",
    "            svf_params.append(deepcopy(param_dict['output_svf_params']))\n",
    "\n",
    "        if 'absorption_filters' in param_dict.keys():\n",
    "            absorption_filters.append(deepcopy(param_dict['absorption_filters']))\n",
    "            \n",
    "        for data in train_dataset:\n",
    "            H, approx_ir = get_response(data, model)\n",
    "            h_approx_list.append(approx_ir)\n"
   ]
  },
  {
   "cell_type": "code",
   "execution_count": null,
   "id": "12",
   "metadata": {},
   "outputs": [],
   "source": [
    "plot_subband_edc(true_ir, h_approx_list[::2], config_dict.sample_rate, band_centre_hz, rec_pos, \n",
    "                 save_path=f'{fig_path}/compare_synth_edf_{rec_pos}_{config_name}.png')"
   ]
  },
  {
   "cell_type": "markdown",
   "id": "13",
   "metadata": {},
   "source": [
    "### Investigate output SVFs as a function of epoch number"
   ]
  },
  {
   "cell_type": "code",
   "execution_count": null,
   "id": "14",
   "metadata": {},
   "outputs": [],
   "source": [
    "from importlib import reload\n",
    "import diff_gfdn\n",
    "reload(diff_gfdn.plot)\n",
    "from diff_gfdn.plot import plot_learned_svf_response\n",
    "plot_learned_svf_response(config_dict.num_groups, config_dict.sample_rate, \n",
    "                          output_biquad_coeffs, rec_pos, save_path=f'{fig_path}/{config_name}')"
   ]
  },
  {
   "cell_type": "markdown",
   "id": "15",
   "metadata": {},
   "source": [
    "### Compare the subband EDC parameters of the true RIR with the GFDN's IR\n",
    "\n",
    "#### Check the subband T60s"
   ]
  },
  {
   "cell_type": "code",
   "execution_count": null,
   "id": "16",
   "metadata": {},
   "outputs": [],
   "source": [
    "def plot_absorption_filter_response(absorption_filters: List[SOSFilter], fs:float):\n",
    "    fig, ax = plt.subplots(1, 1, figsize=(6, 4))\n",
    "    for n in range(config_dict.num_delay_lines):\n",
    "        cur_filter = absorption_filters[n]\n",
    "        sos_coeffs = np.concatenate((cur_filter.biquad_cascade.num_coeffs, cur_filter.biquad_cascade.den_coeffs), axis=-1)\n",
    "        for i in range(sos_coeffs.shape[0]):\n",
    "            sos_coeffs[i, :] /= sos_coeffs[i, 3]\n",
    "        freq_axis, freq_response = sosfreqz(sos_coeffs, worN=1024, fs=fs)\n",
    "        ax.semilogx(freq_axis, db(freq_response), label=f'Delay line {n}')\n",
    "\n",
    "    ax.set_xlabel('Frequency (Hz)')\n",
    "    ax.set_ylabel('Magnitude (dB)')\n",
    "    ax.set_xlim([20, fs/2])\n",
    "    ax.set_title('Delay line absorption filters')\n",
    "        \n",
    "\n",
    "final_approx_ir = h_approx_list[-1]\n",
    "true_t60, est_t60 = get_decay_times_for_rirs(torch.tensor(true_ir), final_approx_ir, room_data.num_rooms, fs, band_centre_hz, plot_edc=True)\n",
    "logger.info(f'Original RIR T60s are {np.round(np.squeeze(true_t60),3)} s')\n",
    "logger.info(f'Estimated RIR T60s are {np.round(np.squeeze(est_t60), 3)} s')\n",
    "plot_absorption_filter_response(absorption_filters[-1], fs)"
   ]
  },
  {
   "cell_type": "markdown",
   "id": "17",
   "metadata": {},
   "source": [
    "#### Check the subband amplitudes"
   ]
  },
  {
   "cell_type": "code",
   "execution_count": null,
   "id": "18",
   "metadata": {},
   "outputs": [],
   "source": [
    "final_approx_rir = h_approx_list[-1]\n",
    "plot_subband_amplitudes(true_ir, final_approx_rir, room_data.sample_rate, \n",
    "                        config_dict.num_groups, amplitudes, common_decay_times, band_centre_hz)"
   ]
  }
 ],
 "metadata": {
  "kernelspec": {
   "display_name": "Python 3 (ipykernel)",
   "language": "python",
   "name": "python3"
  },
  "language_info": {
   "codemirror_mode": {
    "name": "ipython",
    "version": 3
   },
   "file_extension": ".py",
   "mimetype": "text/x-python",
   "name": "python",
   "nbconvert_exporter": "python",
   "pygments_lexer": "ipython3",
   "version": "3.12.4"
  }
 },
 "nbformat": 4,
 "nbformat_minor": 5
}
